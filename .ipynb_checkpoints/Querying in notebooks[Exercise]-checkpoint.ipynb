{
 "cells": [
  {
   "cell_type": "markdown",
   "id": "51b1254d",
   "metadata": {},
   "source": [
    "<div align=\"right\" style=\" font-size: 80%; text-align: center; margin: 0 auto\">\n",
    "<img src=\"https://raw.githubusercontent.com/Explore-AI/Pictures/master/ExploreAI_logos/Logo blue_dark.png\"  style=\"width:25px\" align=\"right\";/>\n",
    "</div>"
   ]
  },
  {
   "cell_type": "markdown",
   "id": "f662d169",
   "metadata": {},
   "source": [
    "# Querying in notebooks\n",
    "© ExploreAI Academy"
   ]
  },
  {
   "cell_type": "markdown",
   "id": "26af890c",
   "metadata": {},
   "source": [
    "In this exercise, we will query a sample SQLite database file for a retail company called Northwind to gain some insight into their data. Ensure that you have downloaded the database file Northwind.db."
   ]
  },
  {
   "cell_type": "markdown",
   "id": "2d230d14",
   "metadata": {},
   "source": [
    "## Learning objectives\n",
    "\n",
    "By the end of this train, you should:\n",
    "- Use basic SELECT statements to retrieve specific data from a database.\n",
    "- Use the WHERE clause to filter data based on certain conditions.\n",
    "- Combine multiple conditions using logical operators such as AND and OR.\n",
    "- Use different logical operators to get or exclude specific values in a table, including the use of IN for multiple values."
   ]
  },
  {
   "cell_type": "markdown",
   "id": "7fd5e3b8",
   "metadata": {},
   "source": [
    "First, let's load our sample database:"
   ]
  },
  {
   "cell_type": "code",
   "execution_count": 15,
   "id": "2d0d820e",
   "metadata": {},
   "outputs": [
    {
     "name": "stdout",
     "output_type": "stream",
     "text": [
      "The sql extension is already loaded. To reload it, use:\n",
      "  %reload_ext sql\n"
     ]
    }
   ],
   "source": [
    "# Load and activate the SQL extension to allow us to execute SQL in a Jupyter notebook.\n",
    "%load_ext sql"
   ]
  },
  {
   "cell_type": "code",
   "execution_count": 16,
   "id": "599e3c6c",
   "metadata": {},
   "outputs": [],
   "source": [
    "# Load the Northwind database stored in your local machine. \n",
    "# Make sure the file is saved in the same folder as this notebook.\n",
    "%sql sqlite:///Northwind.db    "
   ]
  },
  {
   "cell_type": "markdown",
   "id": "06af8b46",
   "metadata": {},
   "source": [
    "Here is a view of all of our tables in the database:"
   ]
  },
  {
   "cell_type": "markdown",
   "id": "69217e12",
   "metadata": {},
   "source": [
    "<div align=\"center\" style=\" font-size: 80%; text-align: center; margin: 0 auto\">\n",
    "<img src=\"https://raw.githubusercontent.com/Explore-AI/Pictures/master/Northwind_ERD.png\"  style=\"width:500px\";/>\n",
    "<br>\n",
    "<br>\n",
    "    <em>Figure 1: Northwind ERD</em>\n",
    "</div>"
   ]
  },
  {
   "cell_type": "markdown",
   "id": "920e89d2",
   "metadata": {},
   "source": [
    "## Exercise\n",
    "\n",
    "Run the necessary queries that will provide us with the following information. Compare your queries with the solutions at the end of this notebook."
   ]
  },
  {
   "cell_type": "markdown",
   "id": "466e53c1",
   "metadata": {},
   "source": [
    "### Exercise 1\n",
    "\n",
    "Find the names of all customers from Germany in the Northwind database."
   ]
  },
  {
   "cell_type": "code",
   "execution_count": 17,
   "id": "038f28ea",
   "metadata": {},
   "outputs": [
    {
     "data": {
      "text/html": [
       "<span style=\"None\">Running query in &#x27;sqlite:///Northwind.db&#x27;</span>"
      ],
      "text/plain": [
       "Running query in 'sqlite:///Northwind.db'"
      ]
     },
     "metadata": {},
     "output_type": "display_data"
    },
    {
     "data": {
      "text/html": [
       "<table>\n",
       "    <thead>\n",
       "        <tr>\n",
       "            <th>ContactName</th>\n",
       "        </tr>\n",
       "    </thead>\n",
       "    <tbody>\n",
       "        <tr>\n",
       "            <td>Maria Anders</td>\n",
       "        </tr>\n",
       "        <tr>\n",
       "            <td>Hanna Moos</td>\n",
       "        </tr>\n",
       "        <tr>\n",
       "            <td>Sven Ottlieb</td>\n",
       "        </tr>\n",
       "        <tr>\n",
       "            <td>Peter Franken</td>\n",
       "        </tr>\n",
       "        <tr>\n",
       "            <td>Philip Cramer</td>\n",
       "        </tr>\n",
       "        <tr>\n",
       "            <td>Renate Messner</td>\n",
       "        </tr>\n",
       "        <tr>\n",
       "            <td>Alexander Feuer</td>\n",
       "        </tr>\n",
       "        <tr>\n",
       "            <td>Henriette Pfalzheim</td>\n",
       "        </tr>\n",
       "        <tr>\n",
       "            <td>Horst Kloss</td>\n",
       "        </tr>\n",
       "        <tr>\n",
       "            <td>Karin Josephs</td>\n",
       "        </tr>\n",
       "    </tbody>\n",
       "</table>\n",
       "<span style=\"font-style:italic;text-align:center;\">Truncated to <a href=\"https://jupysql.ploomber.io/en/latest/api/configuration.html#displaylimit\">displaylimit</a> of 10.</span>"
      ],
      "text/plain": [
       "+---------------------+\n",
       "|     ContactName     |\n",
       "+---------------------+\n",
       "|     Maria Anders    |\n",
       "|      Hanna Moos     |\n",
       "|     Sven Ottlieb    |\n",
       "|    Peter Franken    |\n",
       "|    Philip Cramer    |\n",
       "|    Renate Messner   |\n",
       "|   Alexander Feuer   |\n",
       "| Henriette Pfalzheim |\n",
       "|     Horst Kloss     |\n",
       "|    Karin Josephs    |\n",
       "+---------------------+\n",
       "Truncated to displaylimit of 10."
      ]
     },
     "execution_count": 17,
     "metadata": {},
     "output_type": "execute_result"
    }
   ],
   "source": [
    "%%sql\n",
    "SELECT ContactName\n",
    "FROM Customers\n",
    "WHERE Country='Germany';"
   ]
  },
  {
   "cell_type": "markdown",
   "id": "86802726",
   "metadata": {},
   "source": [
    "### Exercise 2\n",
    "\n",
    "\n",
    "Find all products in the Northwind database that have a unit price greater than 30 and are discontinued. \n",
    "\n",
    "Note: The product has been discontinued when the column `Discontinued` is equal to  1."
   ]
  },
  {
   "cell_type": "code",
   "execution_count": 18,
   "id": "91f3421f",
   "metadata": {},
   "outputs": [
    {
     "data": {
      "text/html": [
       "<span style=\"None\">Running query in &#x27;sqlite:///Northwind.db&#x27;</span>"
      ],
      "text/plain": [
       "Running query in 'sqlite:///Northwind.db'"
      ]
     },
     "metadata": {},
     "output_type": "display_data"
    },
    {
     "data": {
      "text/html": [
       "<table>\n",
       "    <thead>\n",
       "        <tr>\n",
       "            <th>ProductName</th>\n",
       "        </tr>\n",
       "    </thead>\n",
       "    <tbody>\n",
       "        <tr>\n",
       "            <td>Mishi Kobe Niku</td>\n",
       "        </tr>\n",
       "        <tr>\n",
       "            <td>Alice Mutton</td>\n",
       "        </tr>\n",
       "        <tr>\n",
       "            <td>Rssle Sauerkraut</td>\n",
       "        </tr>\n",
       "        <tr>\n",
       "            <td>Thringer Rostbratwurst</td>\n",
       "        </tr>\n",
       "        <tr>\n",
       "            <td>Perth Pasties</td>\n",
       "        </tr>\n",
       "    </tbody>\n",
       "</table>"
      ],
      "text/plain": [
       "+------------------------+\n",
       "|      ProductName       |\n",
       "+------------------------+\n",
       "|    Mishi Kobe Niku     |\n",
       "|      Alice Mutton      |\n",
       "|    Rssle Sauerkraut    |\n",
       "| Thringer Rostbratwurst |\n",
       "|     Perth Pasties      |\n",
       "+------------------------+"
      ]
     },
     "execution_count": 18,
     "metadata": {},
     "output_type": "execute_result"
    }
   ],
   "source": [
    "%%sql\n",
    "SELECT ProductName\n",
    "FROM Products\n",
    "WHERE UnitPrice >30 AND Discontinued=1;"
   ]
  },
  {
   "cell_type": "markdown",
   "id": "f0fade51",
   "metadata": {},
   "source": [
    "### Exercise 3\n",
    "\n",
    "\n",
    "Find the contact names and phone numbers of customers from either 'USA' or 'Canada'."
   ]
  },
  {
   "cell_type": "code",
   "execution_count": 19,
   "id": "748f4263",
   "metadata": {},
   "outputs": [
    {
     "data": {
      "text/html": [
       "<span style=\"None\">Running query in &#x27;sqlite:///Northwind.db&#x27;</span>"
      ],
      "text/plain": [
       "Running query in 'sqlite:///Northwind.db'"
      ]
     },
     "metadata": {},
     "output_type": "display_data"
    },
    {
     "data": {
      "text/html": [
       "<table>\n",
       "    <thead>\n",
       "        <tr>\n",
       "            <th>ContactName</th>\n",
       "            <th>Phone</th>\n",
       "            <th>Country</th>\n",
       "        </tr>\n",
       "    </thead>\n",
       "    <tbody>\n",
       "        <tr>\n",
       "            <td>Elizabeth Lincoln</td>\n",
       "            <td>(604) 555-4729</td>\n",
       "            <td>Canada</td>\n",
       "        </tr>\n",
       "        <tr>\n",
       "            <td>Howard Snyder</td>\n",
       "            <td>(503) 555-7555</td>\n",
       "            <td>USA</td>\n",
       "        </tr>\n",
       "        <tr>\n",
       "            <td>Yoshi Latimer</td>\n",
       "            <td>(503) 555-6874</td>\n",
       "            <td>USA</td>\n",
       "        </tr>\n",
       "        <tr>\n",
       "            <td>Yoshi Tannamuri</td>\n",
       "            <td>(604) 555-3392</td>\n",
       "            <td>Canada</td>\n",
       "        </tr>\n",
       "        <tr>\n",
       "            <td>John Steel</td>\n",
       "            <td>(509) 555-7969</td>\n",
       "            <td>USA</td>\n",
       "        </tr>\n",
       "        <tr>\n",
       "            <td>Jaime Yorres</td>\n",
       "            <td>(415) 555-5938</td>\n",
       "            <td>USA</td>\n",
       "        </tr>\n",
       "        <tr>\n",
       "            <td>Fran Wilson</td>\n",
       "            <td>(503) 555-9573</td>\n",
       "            <td>USA</td>\n",
       "        </tr>\n",
       "        <tr>\n",
       "            <td>Jean Fresnire</td>\n",
       "            <td>(514) 555-8054</td>\n",
       "            <td>Canada</td>\n",
       "        </tr>\n",
       "        <tr>\n",
       "            <td>Rene Phillips</td>\n",
       "            <td>(907) 555-7584</td>\n",
       "            <td>USA</td>\n",
       "        </tr>\n",
       "        <tr>\n",
       "            <td>Paula Wilson</td>\n",
       "            <td>(505) 555-5939</td>\n",
       "            <td>USA</td>\n",
       "        </tr>\n",
       "    </tbody>\n",
       "</table>\n",
       "<span style=\"font-style:italic;text-align:center;\">Truncated to <a href=\"https://jupysql.ploomber.io/en/latest/api/configuration.html#displaylimit\">displaylimit</a> of 10.</span>"
      ],
      "text/plain": [
       "+-------------------+----------------+---------+\n",
       "|    ContactName    |     Phone      | Country |\n",
       "+-------------------+----------------+---------+\n",
       "| Elizabeth Lincoln | (604) 555-4729 |  Canada |\n",
       "|   Howard Snyder   | (503) 555-7555 |   USA   |\n",
       "|   Yoshi Latimer   | (503) 555-6874 |   USA   |\n",
       "|  Yoshi Tannamuri  | (604) 555-3392 |  Canada |\n",
       "|     John Steel    | (509) 555-7969 |   USA   |\n",
       "|    Jaime Yorres   | (415) 555-5938 |   USA   |\n",
       "|    Fran Wilson    | (503) 555-9573 |   USA   |\n",
       "|   Jean Fresnire   | (514) 555-8054 |  Canada |\n",
       "|   Rene Phillips   | (907) 555-7584 |   USA   |\n",
       "|    Paula Wilson   | (505) 555-5939 |   USA   |\n",
       "+-------------------+----------------+---------+\n",
       "Truncated to displaylimit of 10."
      ]
     },
     "execution_count": 19,
     "metadata": {},
     "output_type": "execute_result"
    }
   ],
   "source": [
    "%%sql\n",
    "SELECT ContactName, Phone, Country\n",
    "FROM Customers\n",
    "WHERE Country='USA'OR Country='Canada';"
   ]
  },
  {
   "cell_type": "markdown",
   "id": "f28aef00",
   "metadata": {},
   "source": [
    "### Exercise 4\n",
    "\n",
    "From the 'Orders' table, select all orders that were placed by 'VINET' or 'TOMSP' and were shipped via shipper 1 or 2.\n"
   ]
  },
  {
   "cell_type": "code",
   "execution_count": 20,
   "id": "f4621a53",
   "metadata": {},
   "outputs": [
    {
     "data": {
      "text/html": [
       "<span style=\"None\">Running query in &#x27;sqlite:///Northwind.db&#x27;</span>"
      ],
      "text/plain": [
       "Running query in 'sqlite:///Northwind.db'"
      ]
     },
     "metadata": {},
     "output_type": "display_data"
    },
    {
     "data": {
      "text/html": [
       "<table>\n",
       "    <thead>\n",
       "        <tr>\n",
       "            <th>OrderID</th>\n",
       "            <th>CustomerID</th>\n",
       "            <th>EmployeeID</th>\n",
       "            <th>OrderDate</th>\n",
       "            <th>RequiredDate</th>\n",
       "            <th>ShippedDate</th>\n",
       "            <th>ShipVia</th>\n",
       "            <th>Freight</th>\n",
       "            <th>ShipName</th>\n",
       "            <th>ShipAddress</th>\n",
       "            <th>ShipCity</th>\n",
       "            <th>ShipRegion</th>\n",
       "            <th>ShipPostalCode</th>\n",
       "            <th>ShipCountry</th>\n",
       "        </tr>\n",
       "    </thead>\n",
       "    <tbody>\n",
       "        <tr>\n",
       "            <td>10249</td>\n",
       "            <td>TOMSP</td>\n",
       "            <td>6</td>\n",
       "            <td>1996-07-05 00:00:00</td>\n",
       "            <td>1996-08-16 00:00:00</td>\n",
       "            <td>1996-07-10 00:00:00</td>\n",
       "            <td>1</td>\n",
       "            <td>11.61</td>\n",
       "            <td>Toms Spezialitten</td>\n",
       "            <td>Luisenstr. 48</td>\n",
       "            <td>Mnster</td>\n",
       "            <td>None</td>\n",
       "            <td>44087</td>\n",
       "            <td>Germany</td>\n",
       "        </tr>\n",
       "        <tr>\n",
       "            <td>10274</td>\n",
       "            <td>VINET</td>\n",
       "            <td>6</td>\n",
       "            <td>1996-08-06 00:00:00</td>\n",
       "            <td>1996-09-03 00:00:00</td>\n",
       "            <td>1996-08-16 00:00:00</td>\n",
       "            <td>1</td>\n",
       "            <td>6.01</td>\n",
       "            <td>Vins et alcools Chevalier</td>\n",
       "            <td>59 rue de l-Abbaye</td>\n",
       "            <td>Reims</td>\n",
       "            <td>None</td>\n",
       "            <td>51100</td>\n",
       "            <td>France</td>\n",
       "        </tr>\n",
       "        <tr>\n",
       "            <td>10295</td>\n",
       "            <td>VINET</td>\n",
       "            <td>2</td>\n",
       "            <td>1996-09-02 00:00:00</td>\n",
       "            <td>1996-09-30 00:00:00</td>\n",
       "            <td>1996-09-10 00:00:00</td>\n",
       "            <td>2</td>\n",
       "            <td>1.15</td>\n",
       "            <td>Vins et alcools Chevalier</td>\n",
       "            <td>59 rue de l-Abbaye</td>\n",
       "            <td>Reims</td>\n",
       "            <td>None</td>\n",
       "            <td>51100</td>\n",
       "            <td>France</td>\n",
       "        </tr>\n",
       "        <tr>\n",
       "            <td>10438</td>\n",
       "            <td>TOMSP</td>\n",
       "            <td>3</td>\n",
       "            <td>1997-02-06 00:00:00</td>\n",
       "            <td>1997-03-06 00:00:00</td>\n",
       "            <td>1997-02-14 00:00:00</td>\n",
       "            <td>2</td>\n",
       "            <td>8.24</td>\n",
       "            <td>Toms Spezialitten</td>\n",
       "            <td>Luisenstr. 48</td>\n",
       "            <td>Mnster</td>\n",
       "            <td>None</td>\n",
       "            <td>44087</td>\n",
       "            <td>Germany</td>\n",
       "        </tr>\n",
       "        <tr>\n",
       "            <td>10446</td>\n",
       "            <td>TOMSP</td>\n",
       "            <td>6</td>\n",
       "            <td>1997-02-14 00:00:00</td>\n",
       "            <td>1997-03-14 00:00:00</td>\n",
       "            <td>1997-02-19 00:00:00</td>\n",
       "            <td>1</td>\n",
       "            <td>14.68</td>\n",
       "            <td>Toms Spezialitten</td>\n",
       "            <td>Luisenstr. 48</td>\n",
       "            <td>Mnster</td>\n",
       "            <td>None</td>\n",
       "            <td>44087</td>\n",
       "            <td>Germany</td>\n",
       "        </tr>\n",
       "        <tr>\n",
       "            <td>10548</td>\n",
       "            <td>TOMSP</td>\n",
       "            <td>3</td>\n",
       "            <td>1997-05-26 00:00:00</td>\n",
       "            <td>1997-06-23 00:00:00</td>\n",
       "            <td>1997-06-02 00:00:00</td>\n",
       "            <td>2</td>\n",
       "            <td>1.43</td>\n",
       "            <td>Toms Spezialitten</td>\n",
       "            <td>Luisenstr. 48</td>\n",
       "            <td>Mnster</td>\n",
       "            <td>None</td>\n",
       "            <td>44087</td>\n",
       "            <td>Germany</td>\n",
       "        </tr>\n",
       "        <tr>\n",
       "            <td>10608</td>\n",
       "            <td>TOMSP</td>\n",
       "            <td>4</td>\n",
       "            <td>1997-07-23 00:00:00</td>\n",
       "            <td>1997-08-20 00:00:00</td>\n",
       "            <td>1997-08-01 00:00:00</td>\n",
       "            <td>2</td>\n",
       "            <td>27.79</td>\n",
       "            <td>Toms Spezialitten</td>\n",
       "            <td>Luisenstr. 48</td>\n",
       "            <td>Mnster</td>\n",
       "            <td>None</td>\n",
       "            <td>44087</td>\n",
       "            <td>Germany</td>\n",
       "        </tr>\n",
       "        <tr>\n",
       "            <td>10737</td>\n",
       "            <td>VINET</td>\n",
       "            <td>2</td>\n",
       "            <td>1997-11-11 00:00:00</td>\n",
       "            <td>1997-12-09 00:00:00</td>\n",
       "            <td>1997-11-18 00:00:00</td>\n",
       "            <td>2</td>\n",
       "            <td>7.79</td>\n",
       "            <td>Vins et alcools Chevalier</td>\n",
       "            <td>59 rue de l-Abbaye</td>\n",
       "            <td>Reims</td>\n",
       "            <td>None</td>\n",
       "            <td>51100</td>\n",
       "            <td>France</td>\n",
       "        </tr>\n",
       "        <tr>\n",
       "            <td>10967</td>\n",
       "            <td>TOMSP</td>\n",
       "            <td>2</td>\n",
       "            <td>1998-03-23 00:00:00</td>\n",
       "            <td>1998-04-20 00:00:00</td>\n",
       "            <td>1998-04-02 00:00:00</td>\n",
       "            <td>2</td>\n",
       "            <td>62.22</td>\n",
       "            <td>Toms Spezialitten</td>\n",
       "            <td>Luisenstr. 48</td>\n",
       "            <td>Mnster</td>\n",
       "            <td>None</td>\n",
       "            <td>44087</td>\n",
       "            <td>Germany</td>\n",
       "        </tr>\n",
       "    </tbody>\n",
       "</table>"
      ],
      "text/plain": [
       "+---------+------------+------------+---------------------+---------------------+---------------------+---------+---------+---------------------------+--------------------+----------+------------+----------------+-------------+\n",
       "| OrderID | CustomerID | EmployeeID |      OrderDate      |     RequiredDate    |     ShippedDate     | ShipVia | Freight |          ShipName         |    ShipAddress     | ShipCity | ShipRegion | ShipPostalCode | ShipCountry |\n",
       "+---------+------------+------------+---------------------+---------------------+---------------------+---------+---------+---------------------------+--------------------+----------+------------+----------------+-------------+\n",
       "|  10249  |   TOMSP    |     6      | 1996-07-05 00:00:00 | 1996-08-16 00:00:00 | 1996-07-10 00:00:00 |    1    |  11.61  |     Toms Spezialitten     |   Luisenstr. 48    |  Mnster  |    None    |     44087      |   Germany   |\n",
       "|  10274  |   VINET    |     6      | 1996-08-06 00:00:00 | 1996-09-03 00:00:00 | 1996-08-16 00:00:00 |    1    |   6.01  | Vins et alcools Chevalier | 59 rue de l-Abbaye |  Reims   |    None    |     51100      |    France   |\n",
       "|  10295  |   VINET    |     2      | 1996-09-02 00:00:00 | 1996-09-30 00:00:00 | 1996-09-10 00:00:00 |    2    |   1.15  | Vins et alcools Chevalier | 59 rue de l-Abbaye |  Reims   |    None    |     51100      |    France   |\n",
       "|  10438  |   TOMSP    |     3      | 1997-02-06 00:00:00 | 1997-03-06 00:00:00 | 1997-02-14 00:00:00 |    2    |   8.24  |     Toms Spezialitten     |   Luisenstr. 48    |  Mnster  |    None    |     44087      |   Germany   |\n",
       "|  10446  |   TOMSP    |     6      | 1997-02-14 00:00:00 | 1997-03-14 00:00:00 | 1997-02-19 00:00:00 |    1    |  14.68  |     Toms Spezialitten     |   Luisenstr. 48    |  Mnster  |    None    |     44087      |   Germany   |\n",
       "|  10548  |   TOMSP    |     3      | 1997-05-26 00:00:00 | 1997-06-23 00:00:00 | 1997-06-02 00:00:00 |    2    |   1.43  |     Toms Spezialitten     |   Luisenstr. 48    |  Mnster  |    None    |     44087      |   Germany   |\n",
       "|  10608  |   TOMSP    |     4      | 1997-07-23 00:00:00 | 1997-08-20 00:00:00 | 1997-08-01 00:00:00 |    2    |  27.79  |     Toms Spezialitten     |   Luisenstr. 48    |  Mnster  |    None    |     44087      |   Germany   |\n",
       "|  10737  |   VINET    |     2      | 1997-11-11 00:00:00 | 1997-12-09 00:00:00 | 1997-11-18 00:00:00 |    2    |   7.79  | Vins et alcools Chevalier | 59 rue de l-Abbaye |  Reims   |    None    |     51100      |    France   |\n",
       "|  10967  |   TOMSP    |     2      | 1998-03-23 00:00:00 | 1998-04-20 00:00:00 | 1998-04-02 00:00:00 |    2    |  62.22  |     Toms Spezialitten     |   Luisenstr. 48    |  Mnster  |    None    |     44087      |   Germany   |\n",
       "+---------+------------+------------+---------------------+---------------------+---------------------+---------+---------+---------------------------+--------------------+----------+------------+----------------+-------------+"
      ]
     },
     "execution_count": 20,
     "metadata": {},
     "output_type": "execute_result"
    }
   ],
   "source": [
    "%%sql\n",
    "SELECT *\n",
    "FROM Orders\n",
    "WHERE CustomerID IN ('VINET','TOMSP') AND ShipVia IN (1,2);"
   ]
  },
  {
   "cell_type": "markdown",
   "id": "7a51093c",
   "metadata": {},
   "source": [
    "### Challenge question\n",
    "\n",
    "Find the employees in the Northwind database who are either Sales Representatives or Sales Managers and are based in London.\n"
   ]
  },
  {
   "cell_type": "code",
   "execution_count": 21,
   "id": "99479d5f",
   "metadata": {},
   "outputs": [
    {
     "data": {
      "text/html": [
       "<span style=\"None\">Running query in &#x27;sqlite:///Northwind.db&#x27;</span>"
      ],
      "text/plain": [
       "Running query in 'sqlite:///Northwind.db'"
      ]
     },
     "metadata": {},
     "output_type": "display_data"
    },
    {
     "data": {
      "text/html": [
       "<table>\n",
       "    <thead>\n",
       "        <tr>\n",
       "            <th>FirstName</th>\n",
       "            <th>LastName</th>\n",
       "        </tr>\n",
       "    </thead>\n",
       "    <tbody>\n",
       "        <tr>\n",
       "            <td>Steven</td>\n",
       "            <td>Buchanan</td>\n",
       "        </tr>\n",
       "        <tr>\n",
       "            <td>Michael</td>\n",
       "            <td>Suyama</td>\n",
       "        </tr>\n",
       "        <tr>\n",
       "            <td>Robert</td>\n",
       "            <td>King</td>\n",
       "        </tr>\n",
       "        <tr>\n",
       "            <td>Anne</td>\n",
       "            <td>Dodsworth</td>\n",
       "        </tr>\n",
       "    </tbody>\n",
       "</table>"
      ],
      "text/plain": [
       "+-----------+-----------+\n",
       "| FirstName |  LastName |\n",
       "+-----------+-----------+\n",
       "|   Steven  |  Buchanan |\n",
       "|  Michael  |   Suyama  |\n",
       "|   Robert  |    King   |\n",
       "|    Anne   | Dodsworth |\n",
       "+-----------+-----------+"
      ]
     },
     "execution_count": 21,
     "metadata": {},
     "output_type": "execute_result"
    }
   ],
   "source": [
    "%%sql\n",
    "SELECT FirstName, LastName\n",
    "FROM employees\n",
    "WHERE Title IN ('Sales Representative','Sales Manager') AND City='London';"
   ]
  },
  {
   "cell_type": "markdown",
   "id": "b3c88335",
   "metadata": {},
   "source": [
    "## Solutions"
   ]
  },
  {
   "cell_type": "markdown",
   "id": "a5084b12",
   "metadata": {},
   "source": [
    "### Exercise 1"
   ]
  },
  {
   "cell_type": "code",
   "execution_count": 22,
   "id": "c968d875",
   "metadata": {
    "scrolled": true
   },
   "outputs": [
    {
     "data": {
      "text/html": [
       "<span style=\"None\">Running query in &#x27;sqlite:///Northwind.db&#x27;</span>"
      ],
      "text/plain": [
       "Running query in 'sqlite:///Northwind.db'"
      ]
     },
     "metadata": {},
     "output_type": "display_data"
    },
    {
     "data": {
      "text/html": [
       "<table>\n",
       "    <thead>\n",
       "        <tr>\n",
       "            <th>ContactName</th>\n",
       "        </tr>\n",
       "    </thead>\n",
       "    <tbody>\n",
       "        <tr>\n",
       "            <td>Maria Anders</td>\n",
       "        </tr>\n",
       "        <tr>\n",
       "            <td>Hanna Moos</td>\n",
       "        </tr>\n",
       "        <tr>\n",
       "            <td>Sven Ottlieb</td>\n",
       "        </tr>\n",
       "        <tr>\n",
       "            <td>Peter Franken</td>\n",
       "        </tr>\n",
       "        <tr>\n",
       "            <td>Philip Cramer</td>\n",
       "        </tr>\n",
       "        <tr>\n",
       "            <td>Renate Messner</td>\n",
       "        </tr>\n",
       "        <tr>\n",
       "            <td>Alexander Feuer</td>\n",
       "        </tr>\n",
       "        <tr>\n",
       "            <td>Henriette Pfalzheim</td>\n",
       "        </tr>\n",
       "        <tr>\n",
       "            <td>Horst Kloss</td>\n",
       "        </tr>\n",
       "        <tr>\n",
       "            <td>Karin Josephs</td>\n",
       "        </tr>\n",
       "    </tbody>\n",
       "</table>\n",
       "<span style=\"font-style:italic;text-align:center;\">Truncated to <a href=\"https://jupysql.ploomber.io/en/latest/api/configuration.html#displaylimit\">displaylimit</a> of 10.</span>"
      ],
      "text/plain": [
       "+---------------------+\n",
       "|     ContactName     |\n",
       "+---------------------+\n",
       "|     Maria Anders    |\n",
       "|      Hanna Moos     |\n",
       "|     Sven Ottlieb    |\n",
       "|    Peter Franken    |\n",
       "|    Philip Cramer    |\n",
       "|    Renate Messner   |\n",
       "|   Alexander Feuer   |\n",
       "| Henriette Pfalzheim |\n",
       "|     Horst Kloss     |\n",
       "|    Karin Josephs    |\n",
       "+---------------------+\n",
       "Truncated to displaylimit of 10."
      ]
     },
     "execution_count": 22,
     "metadata": {},
     "output_type": "execute_result"
    }
   ],
   "source": [
    "%%sql\n",
    "SELECT \n",
    "    ContactName \n",
    "FROM \n",
    "    Customers \n",
    "WHERE \n",
    "    Country = 'Germany';\n"
   ]
  },
  {
   "cell_type": "markdown",
   "id": "294d8eef",
   "metadata": {},
   "source": [
    "### Exercise 2"
   ]
  },
  {
   "cell_type": "code",
   "execution_count": 23,
   "id": "03071e34",
   "metadata": {},
   "outputs": [
    {
     "data": {
      "text/html": [
       "<span style=\"None\">Running query in &#x27;sqlite:///Northwind.db&#x27;</span>"
      ],
      "text/plain": [
       "Running query in 'sqlite:///Northwind.db'"
      ]
     },
     "metadata": {},
     "output_type": "display_data"
    },
    {
     "data": {
      "text/html": [
       "<table>\n",
       "    <thead>\n",
       "        <tr>\n",
       "            <th>ProductName</th>\n",
       "            <th>Discontinued</th>\n",
       "        </tr>\n",
       "    </thead>\n",
       "    <tbody>\n",
       "        <tr>\n",
       "            <td>Mishi Kobe Niku</td>\n",
       "            <td>1</td>\n",
       "        </tr>\n",
       "        <tr>\n",
       "            <td>Alice Mutton</td>\n",
       "            <td>1</td>\n",
       "        </tr>\n",
       "        <tr>\n",
       "            <td>Rssle Sauerkraut</td>\n",
       "            <td>1</td>\n",
       "        </tr>\n",
       "        <tr>\n",
       "            <td>Thringer Rostbratwurst</td>\n",
       "            <td>1</td>\n",
       "        </tr>\n",
       "        <tr>\n",
       "            <td>Perth Pasties</td>\n",
       "            <td>1</td>\n",
       "        </tr>\n",
       "    </tbody>\n",
       "</table>"
      ],
      "text/plain": [
       "+------------------------+--------------+\n",
       "|      ProductName       | Discontinued |\n",
       "+------------------------+--------------+\n",
       "|    Mishi Kobe Niku     |      1       |\n",
       "|      Alice Mutton      |      1       |\n",
       "|    Rssle Sauerkraut    |      1       |\n",
       "| Thringer Rostbratwurst |      1       |\n",
       "|     Perth Pasties      |      1       |\n",
       "+------------------------+--------------+"
      ]
     },
     "execution_count": 23,
     "metadata": {},
     "output_type": "execute_result"
    }
   ],
   "source": [
    "%%sql\n",
    "\n",
    "SELECT \n",
    "    ProductName, Discontinued\n",
    "FROM \n",
    "    Products \n",
    "WHERE \n",
    "    UnitPrice > 30 \n",
    "    AND Discontinued = 1;\n"
   ]
  },
  {
   "cell_type": "markdown",
   "id": "eafe40b6",
   "metadata": {},
   "source": [
    "### Exercise 3"
   ]
  },
  {
   "cell_type": "code",
   "execution_count": 24,
   "id": "1ffd2239",
   "metadata": {},
   "outputs": [
    {
     "data": {
      "text/html": [
       "<span style=\"None\">Running query in &#x27;sqlite:///Northwind.db&#x27;</span>"
      ],
      "text/plain": [
       "Running query in 'sqlite:///Northwind.db'"
      ]
     },
     "metadata": {},
     "output_type": "display_data"
    },
    {
     "data": {
      "text/html": [
       "<table>\n",
       "    <thead>\n",
       "        <tr>\n",
       "            <th>ContactName</th>\n",
       "            <th>Phone</th>\n",
       "        </tr>\n",
       "    </thead>\n",
       "    <tbody>\n",
       "        <tr>\n",
       "            <td>Elizabeth Lincoln</td>\n",
       "            <td>(604) 555-4729</td>\n",
       "        </tr>\n",
       "        <tr>\n",
       "            <td>Howard Snyder</td>\n",
       "            <td>(503) 555-7555</td>\n",
       "        </tr>\n",
       "        <tr>\n",
       "            <td>Yoshi Latimer</td>\n",
       "            <td>(503) 555-6874</td>\n",
       "        </tr>\n",
       "        <tr>\n",
       "            <td>Yoshi Tannamuri</td>\n",
       "            <td>(604) 555-3392</td>\n",
       "        </tr>\n",
       "        <tr>\n",
       "            <td>John Steel</td>\n",
       "            <td>(509) 555-7969</td>\n",
       "        </tr>\n",
       "        <tr>\n",
       "            <td>Jaime Yorres</td>\n",
       "            <td>(415) 555-5938</td>\n",
       "        </tr>\n",
       "        <tr>\n",
       "            <td>Fran Wilson</td>\n",
       "            <td>(503) 555-9573</td>\n",
       "        </tr>\n",
       "        <tr>\n",
       "            <td>Jean Fresnire</td>\n",
       "            <td>(514) 555-8054</td>\n",
       "        </tr>\n",
       "        <tr>\n",
       "            <td>Rene Phillips</td>\n",
       "            <td>(907) 555-7584</td>\n",
       "        </tr>\n",
       "        <tr>\n",
       "            <td>Paula Wilson</td>\n",
       "            <td>(505) 555-5939</td>\n",
       "        </tr>\n",
       "    </tbody>\n",
       "</table>\n",
       "<span style=\"font-style:italic;text-align:center;\">Truncated to <a href=\"https://jupysql.ploomber.io/en/latest/api/configuration.html#displaylimit\">displaylimit</a> of 10.</span>"
      ],
      "text/plain": [
       "+-------------------+----------------+\n",
       "|    ContactName    |     Phone      |\n",
       "+-------------------+----------------+\n",
       "| Elizabeth Lincoln | (604) 555-4729 |\n",
       "|   Howard Snyder   | (503) 555-7555 |\n",
       "|   Yoshi Latimer   | (503) 555-6874 |\n",
       "|  Yoshi Tannamuri  | (604) 555-3392 |\n",
       "|     John Steel    | (509) 555-7969 |\n",
       "|    Jaime Yorres   | (415) 555-5938 |\n",
       "|    Fran Wilson    | (503) 555-9573 |\n",
       "|   Jean Fresnire   | (514) 555-8054 |\n",
       "|   Rene Phillips   | (907) 555-7584 |\n",
       "|    Paula Wilson   | (505) 555-5939 |\n",
       "+-------------------+----------------+\n",
       "Truncated to displaylimit of 10."
      ]
     },
     "execution_count": 24,
     "metadata": {},
     "output_type": "execute_result"
    }
   ],
   "source": [
    "%%sql\n",
    "\n",
    "SELECT \n",
    "    ContactName, \n",
    "    Phone \n",
    "FROM \n",
    "    Customers \n",
    "WHERE \n",
    "    Country IN ('USA', 'Canada');\n"
   ]
  },
  {
   "cell_type": "markdown",
   "id": "e9956efe",
   "metadata": {},
   "source": [
    "### Exercise 4"
   ]
  },
  {
   "cell_type": "code",
   "execution_count": 25,
   "id": "cd662edc",
   "metadata": {},
   "outputs": [
    {
     "data": {
      "text/html": [
       "<span style=\"None\">Running query in &#x27;sqlite:///Northwind.db&#x27;</span>"
      ],
      "text/plain": [
       "Running query in 'sqlite:///Northwind.db'"
      ]
     },
     "metadata": {},
     "output_type": "display_data"
    },
    {
     "data": {
      "text/html": [
       "<table>\n",
       "    <thead>\n",
       "        <tr>\n",
       "            <th>OrderID</th>\n",
       "            <th>CustomerID</th>\n",
       "            <th>EmployeeID</th>\n",
       "            <th>OrderDate</th>\n",
       "            <th>RequiredDate</th>\n",
       "            <th>ShippedDate</th>\n",
       "            <th>ShipVia</th>\n",
       "            <th>Freight</th>\n",
       "            <th>ShipName</th>\n",
       "            <th>ShipAddress</th>\n",
       "            <th>ShipCity</th>\n",
       "            <th>ShipRegion</th>\n",
       "            <th>ShipPostalCode</th>\n",
       "            <th>ShipCountry</th>\n",
       "        </tr>\n",
       "    </thead>\n",
       "    <tbody>\n",
       "        <tr>\n",
       "            <td>10252</td>\n",
       "            <td>SUPRD</td>\n",
       "            <td>4</td>\n",
       "            <td>1996-07-09 00:00:00</td>\n",
       "            <td>1996-08-06 00:00:00</td>\n",
       "            <td>1996-07-11 00:00:00</td>\n",
       "            <td>2</td>\n",
       "            <td>51.3</td>\n",
       "            <td>Suprmes dlices</td>\n",
       "            <td>Boulevard Tirou, 255</td>\n",
       "            <td>Charleroi</td>\n",
       "            <td>None</td>\n",
       "            <td>B-6000</td>\n",
       "            <td>Belgium</td>\n",
       "        </tr>\n",
       "        <tr>\n",
       "            <td>10274</td>\n",
       "            <td>VINET</td>\n",
       "            <td>6</td>\n",
       "            <td>1996-08-06 00:00:00</td>\n",
       "            <td>1996-09-03 00:00:00</td>\n",
       "            <td>1996-08-16 00:00:00</td>\n",
       "            <td>1</td>\n",
       "            <td>6.01</td>\n",
       "            <td>Vins et alcools Chevalier</td>\n",
       "            <td>59 rue de l-Abbaye</td>\n",
       "            <td>Reims</td>\n",
       "            <td>None</td>\n",
       "            <td>51100</td>\n",
       "            <td>France</td>\n",
       "        </tr>\n",
       "        <tr>\n",
       "            <td>10285</td>\n",
       "            <td>QUICK</td>\n",
       "            <td>1</td>\n",
       "            <td>1996-08-20 00:00:00</td>\n",
       "            <td>1996-09-17 00:00:00</td>\n",
       "            <td>1996-08-26 00:00:00</td>\n",
       "            <td>2</td>\n",
       "            <td>76.83</td>\n",
       "            <td>QUICK-Stop</td>\n",
       "            <td>Taucherstrae 10</td>\n",
       "            <td>Cunewalde</td>\n",
       "            <td>None</td>\n",
       "            <td>1307</td>\n",
       "            <td>Germany</td>\n",
       "        </tr>\n",
       "        <tr>\n",
       "            <td>10295</td>\n",
       "            <td>VINET</td>\n",
       "            <td>2</td>\n",
       "            <td>1996-09-02 00:00:00</td>\n",
       "            <td>1996-09-30 00:00:00</td>\n",
       "            <td>1996-09-10 00:00:00</td>\n",
       "            <td>2</td>\n",
       "            <td>1.15</td>\n",
       "            <td>Vins et alcools Chevalier</td>\n",
       "            <td>59 rue de l-Abbaye</td>\n",
       "            <td>Reims</td>\n",
       "            <td>None</td>\n",
       "            <td>51100</td>\n",
       "            <td>France</td>\n",
       "        </tr>\n",
       "        <tr>\n",
       "            <td>10302</td>\n",
       "            <td>SUPRD</td>\n",
       "            <td>4</td>\n",
       "            <td>1996-09-10 00:00:00</td>\n",
       "            <td>1996-10-08 00:00:00</td>\n",
       "            <td>1996-10-09 00:00:00</td>\n",
       "            <td>2</td>\n",
       "            <td>6.27</td>\n",
       "            <td>Suprmes dlices</td>\n",
       "            <td>Boulevard Tirou, 255</td>\n",
       "            <td>Charleroi</td>\n",
       "            <td>None</td>\n",
       "            <td>B-6000</td>\n",
       "            <td>Belgium</td>\n",
       "        </tr>\n",
       "        <tr>\n",
       "            <td>10313</td>\n",
       "            <td>QUICK</td>\n",
       "            <td>2</td>\n",
       "            <td>1996-09-24 00:00:00</td>\n",
       "            <td>1996-10-22 00:00:00</td>\n",
       "            <td>1996-10-04 00:00:00</td>\n",
       "            <td>2</td>\n",
       "            <td>1.96</td>\n",
       "            <td>QUICK-Stop</td>\n",
       "            <td>Taucherstrae 10</td>\n",
       "            <td>Cunewalde</td>\n",
       "            <td>None</td>\n",
       "            <td>1307</td>\n",
       "            <td>Germany</td>\n",
       "        </tr>\n",
       "        <tr>\n",
       "            <td>10345</td>\n",
       "            <td>QUICK</td>\n",
       "            <td>2</td>\n",
       "            <td>1996-11-04 00:00:00</td>\n",
       "            <td>1996-12-02 00:00:00</td>\n",
       "            <td>1996-11-11 00:00:00</td>\n",
       "            <td>2</td>\n",
       "            <td>249.06</td>\n",
       "            <td>QUICK-Stop</td>\n",
       "            <td>Taucherstrae 10</td>\n",
       "            <td>Cunewalde</td>\n",
       "            <td>None</td>\n",
       "            <td>1307</td>\n",
       "            <td>Germany</td>\n",
       "        </tr>\n",
       "        <tr>\n",
       "            <td>10361</td>\n",
       "            <td>QUICK</td>\n",
       "            <td>1</td>\n",
       "            <td>1996-11-22 00:00:00</td>\n",
       "            <td>1996-12-20 00:00:00</td>\n",
       "            <td>1996-12-03 00:00:00</td>\n",
       "            <td>2</td>\n",
       "            <td>183.17</td>\n",
       "            <td>QUICK-Stop</td>\n",
       "            <td>Taucherstrae 10</td>\n",
       "            <td>Cunewalde</td>\n",
       "            <td>None</td>\n",
       "            <td>1307</td>\n",
       "            <td>Germany</td>\n",
       "        </tr>\n",
       "        <tr>\n",
       "            <td>10418</td>\n",
       "            <td>QUICK</td>\n",
       "            <td>4</td>\n",
       "            <td>1997-01-17 00:00:00</td>\n",
       "            <td>1997-02-14 00:00:00</td>\n",
       "            <td>1997-01-24 00:00:00</td>\n",
       "            <td>1</td>\n",
       "            <td>17.55</td>\n",
       "            <td>QUICK-Stop</td>\n",
       "            <td>Taucherstrae 10</td>\n",
       "            <td>Cunewalde</td>\n",
       "            <td>None</td>\n",
       "            <td>1307</td>\n",
       "            <td>Germany</td>\n",
       "        </tr>\n",
       "        <tr>\n",
       "            <td>10475</td>\n",
       "            <td>SUPRD</td>\n",
       "            <td>9</td>\n",
       "            <td>1997-03-14 00:00:00</td>\n",
       "            <td>1997-04-11 00:00:00</td>\n",
       "            <td>1997-04-04 00:00:00</td>\n",
       "            <td>1</td>\n",
       "            <td>68.52</td>\n",
       "            <td>Suprmes dlices</td>\n",
       "            <td>Boulevard Tirou, 255</td>\n",
       "            <td>Charleroi</td>\n",
       "            <td>None</td>\n",
       "            <td>B-6000</td>\n",
       "            <td>Belgium</td>\n",
       "        </tr>\n",
       "    </tbody>\n",
       "</table>\n",
       "<span style=\"font-style:italic;text-align:center;\">Truncated to <a href=\"https://jupysql.ploomber.io/en/latest/api/configuration.html#displaylimit\">displaylimit</a> of 10.</span>"
      ],
      "text/plain": [
       "+---------+------------+------------+---------------------+---------------------+---------------------+---------+---------+---------------------------+----------------------+-----------+------------+----------------+-------------+\n",
       "| OrderID | CustomerID | EmployeeID |      OrderDate      |     RequiredDate    |     ShippedDate     | ShipVia | Freight |          ShipName         |     ShipAddress      |  ShipCity | ShipRegion | ShipPostalCode | ShipCountry |\n",
       "+---------+------------+------------+---------------------+---------------------+---------------------+---------+---------+---------------------------+----------------------+-----------+------------+----------------+-------------+\n",
       "|  10252  |   SUPRD    |     4      | 1996-07-09 00:00:00 | 1996-08-06 00:00:00 | 1996-07-11 00:00:00 |    2    |   51.3  |       Suprmes dlices      | Boulevard Tirou, 255 | Charleroi |    None    |     B-6000     |   Belgium   |\n",
       "|  10274  |   VINET    |     6      | 1996-08-06 00:00:00 | 1996-09-03 00:00:00 | 1996-08-16 00:00:00 |    1    |   6.01  | Vins et alcools Chevalier |  59 rue de l-Abbaye  |   Reims   |    None    |     51100      |    France   |\n",
       "|  10285  |   QUICK    |     1      | 1996-08-20 00:00:00 | 1996-09-17 00:00:00 | 1996-08-26 00:00:00 |    2    |  76.83  |         QUICK-Stop        |   Taucherstrae 10    | Cunewalde |    None    |      1307      |   Germany   |\n",
       "|  10295  |   VINET    |     2      | 1996-09-02 00:00:00 | 1996-09-30 00:00:00 | 1996-09-10 00:00:00 |    2    |   1.15  | Vins et alcools Chevalier |  59 rue de l-Abbaye  |   Reims   |    None    |     51100      |    France   |\n",
       "|  10302  |   SUPRD    |     4      | 1996-09-10 00:00:00 | 1996-10-08 00:00:00 | 1996-10-09 00:00:00 |    2    |   6.27  |       Suprmes dlices      | Boulevard Tirou, 255 | Charleroi |    None    |     B-6000     |   Belgium   |\n",
       "|  10313  |   QUICK    |     2      | 1996-09-24 00:00:00 | 1996-10-22 00:00:00 | 1996-10-04 00:00:00 |    2    |   1.96  |         QUICK-Stop        |   Taucherstrae 10    | Cunewalde |    None    |      1307      |   Germany   |\n",
       "|  10345  |   QUICK    |     2      | 1996-11-04 00:00:00 | 1996-12-02 00:00:00 | 1996-11-11 00:00:00 |    2    |  249.06 |         QUICK-Stop        |   Taucherstrae 10    | Cunewalde |    None    |      1307      |   Germany   |\n",
       "|  10361  |   QUICK    |     1      | 1996-11-22 00:00:00 | 1996-12-20 00:00:00 | 1996-12-03 00:00:00 |    2    |  183.17 |         QUICK-Stop        |   Taucherstrae 10    | Cunewalde |    None    |      1307      |   Germany   |\n",
       "|  10418  |   QUICK    |     4      | 1997-01-17 00:00:00 | 1997-02-14 00:00:00 | 1997-01-24 00:00:00 |    1    |  17.55  |         QUICK-Stop        |   Taucherstrae 10    | Cunewalde |    None    |      1307      |   Germany   |\n",
       "|  10475  |   SUPRD    |     9      | 1997-03-14 00:00:00 | 1997-04-11 00:00:00 | 1997-04-04 00:00:00 |    1    |  68.52  |       Suprmes dlices      | Boulevard Tirou, 255 | Charleroi |    None    |     B-6000     |   Belgium   |\n",
       "+---------+------------+------------+---------------------+---------------------+---------------------+---------+---------+---------------------------+----------------------+-----------+------------+----------------+-------------+\n",
       "Truncated to displaylimit of 10."
      ]
     },
     "execution_count": 25,
     "metadata": {},
     "output_type": "execute_result"
    }
   ],
   "source": [
    "%%sql\n",
    "\n",
    "SELECT \n",
    "    * \n",
    "FROM \n",
    "    Orders \n",
    "WHERE \n",
    "    CustomerID IN ('VINET', 'QUICK', 'SUPRD')\n",
    "    AND ShipVia IN (1,2);"
   ]
  },
  {
   "cell_type": "markdown",
   "id": "c1341a11",
   "metadata": {},
   "source": [
    "### Challenge question"
   ]
  },
  {
   "cell_type": "code",
   "execution_count": 26,
   "id": "9a0cf068",
   "metadata": {},
   "outputs": [
    {
     "data": {
      "text/html": [
       "<span style=\"None\">Running query in &#x27;sqlite:///Northwind.db&#x27;</span>"
      ],
      "text/plain": [
       "Running query in 'sqlite:///Northwind.db'"
      ]
     },
     "metadata": {},
     "output_type": "display_data"
    },
    {
     "data": {
      "text/html": [
       "<table>\n",
       "    <thead>\n",
       "        <tr>\n",
       "            <th>FirstName</th>\n",
       "            <th>LastName</th>\n",
       "        </tr>\n",
       "    </thead>\n",
       "    <tbody>\n",
       "        <tr>\n",
       "            <td>Steven</td>\n",
       "            <td>Buchanan</td>\n",
       "        </tr>\n",
       "        <tr>\n",
       "            <td>Michael</td>\n",
       "            <td>Suyama</td>\n",
       "        </tr>\n",
       "        <tr>\n",
       "            <td>Robert</td>\n",
       "            <td>King</td>\n",
       "        </tr>\n",
       "        <tr>\n",
       "            <td>Anne</td>\n",
       "            <td>Dodsworth</td>\n",
       "        </tr>\n",
       "    </tbody>\n",
       "</table>"
      ],
      "text/plain": [
       "+-----------+-----------+\n",
       "| FirstName |  LastName |\n",
       "+-----------+-----------+\n",
       "|   Steven  |  Buchanan |\n",
       "|  Michael  |   Suyama  |\n",
       "|   Robert  |    King   |\n",
       "|    Anne   | Dodsworth |\n",
       "+-----------+-----------+"
      ]
     },
     "execution_count": 26,
     "metadata": {},
     "output_type": "execute_result"
    }
   ],
   "source": [
    "%%sql\n",
    "\n",
    "SELECT \n",
    "    FirstName, \n",
    "    LastName \n",
    "FROM \n",
    "    Employees \n",
    "WHERE \n",
    "    (Title = 'Sales Representative' OR Title = 'Sales Manager') \n",
    "    AND City = 'London';"
   ]
  },
  {
   "cell_type": "markdown",
   "id": "6d8d9bdd",
   "metadata": {},
   "source": [
    "<div align=\"center\" style=\" font-size: 80%; text-align: center; margin: 0 auto\">\n",
    "<img src=\"https://raw.githubusercontent.com/Explore-AI/Pictures/master/ExploreAI_logos/EAI_Blue_Dark.png\"  style=\"width:200px\";/>\n",
    "</div>"
   ]
  }
 ],
 "metadata": {
  "kernelspec": {
   "display_name": "Python 3 (ipykernel)",
   "language": "python",
   "name": "python3"
  },
  "language_info": {
   "codemirror_mode": {
    "name": "ipython",
    "version": 3
   },
   "file_extension": ".py",
   "mimetype": "text/x-python",
   "name": "python",
   "nbconvert_exporter": "python",
   "pygments_lexer": "ipython3",
   "version": "3.11.5"
  }
 },
 "nbformat": 4,
 "nbformat_minor": 5
}
