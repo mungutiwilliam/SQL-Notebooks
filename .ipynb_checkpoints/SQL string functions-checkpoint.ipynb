{
 "cells": [
  {
   "cell_type": "markdown",
   "id": "51b1254d",
   "metadata": {},
   "source": [
    "<div align=\"right\" style=\" font-size: 80%; text-align: center; margin: 0 auto\">\n",
    "<img src=\"https://raw.githubusercontent.com/Explore-AI/Pictures/master/ExploreAI_logos/Logo blue_dark.png\"  style=\"width:25px\" align=\"right\";/>\n",
    "</div>"
   ]
  },
  {
   "cell_type": "markdown",
   "id": "f662d169",
   "metadata": {},
   "source": [
    "# SQL string functions\n",
    "© ExploreAI Academy"
   ]
  },
  {
   "cell_type": "markdown",
   "id": "26af890c",
   "metadata": {},
   "source": [
    "In this exercise, we will use string functions to filter our data in order to extract relevant information."
   ]
  },
  {
   "cell_type": "markdown",
   "id": "2d230d14",
   "metadata": {},
   "source": [
    "## Learning objectives\n",
    "\n",
    "By the end of this train, you should be able to:\n",
    "- Use the `LIKE` operator to filter text data.\n",
    "- Use the `LOWER` and `UPPER` functions to query text data.\n",
    "- Concatenate text data from multiple columns."
   ]
  },
  {
   "cell_type": "markdown",
   "id": "7fd5e3b8",
   "metadata": {},
   "source": [
    "First, let's load our sample database:"
   ]
  },
  {
   "cell_type": "code",
   "execution_count": 1,
   "id": "2d0d820e",
   "metadata": {},
   "outputs": [],
   "source": [
    "# Load and activate the SQL extension to allow us to execute SQL in a Jupyter notebook.\n",
    "%load_ext sql\n"
   ]
  },
  {
   "cell_type": "code",
   "execution_count": 2,
   "id": "599e3c6c",
   "metadata": {},
   "outputs": [
    {
     "data": {
      "text/html": [
       "<span style=\"None\">Connecting to &#x27;sqlite:///chinook.db&#x27;</span>"
      ],
      "text/plain": [
       "Connecting to 'sqlite:///chinook.db'"
      ]
     },
     "metadata": {},
     "output_type": "display_data"
    }
   ],
   "source": [
    "# Load the Chinook database stored in your local machine. \n",
    "# Make sure the file is saved in the same folder as this notebook.\n",
    "%sql sqlite:///chinook.db"
   ]
  },
  {
   "cell_type": "markdown",
   "id": "06af8b46",
   "metadata": {},
   "source": [
    "Here is a [view](https://www.lucidchart.com/pages/er-diagrams) of all of our tables in the database:"
   ]
  },
  {
   "cell_type": "markdown",
   "id": "e3d3c848",
   "metadata": {},
   "source": [
    "<div align=\"center\" style=\" font-size: 80%; text-align: center; margin: 0 auto\">\n",
    "<img src=\"https://github.com/Explore-AI/Pictures/blob/master/sqlite-sample-database-color.jpg?raw=true\"  style=\"width:70%\";/>\n",
    "<br>\n",
    "<br>\n",
    "    <em>Figure 1: Chinook ERD</em>\n",
    "</div>\n"
   ]
  },
  {
   "cell_type": "markdown",
   "id": "653e9dbb",
   "metadata": {},
   "source": [
    "[Image source](https://www.sqlitetutorial.net/sqlite-sample-database/)"
   ]
  },
  {
   "cell_type": "markdown",
   "id": "920e89d2",
   "metadata": {},
   "source": [
    "## Exercise\n",
    "\n",
    "Run the necessary queries that will provide us with the following information. Compare your queries with the solutions at the end of this notebook."
   ]
  },
  {
   "cell_type": "markdown",
   "id": "466e53c1",
   "metadata": {},
   "source": [
    "### Exercise 1\n",
    "\n",
    "Run a query that will give us a view of the data type of the customers table.\n"
   ]
  },
  {
   "cell_type": "code",
   "execution_count": 3,
   "id": "038f28ea",
   "metadata": {},
   "outputs": [
    {
     "data": {
      "text/html": [
       "<span style=\"None\">Running query in &#x27;sqlite:///chinook.db&#x27;</span>"
      ],
      "text/plain": [
       "Running query in 'sqlite:///chinook.db'"
      ]
     },
     "metadata": {},
     "output_type": "display_data"
    },
    {
     "data": {
      "text/html": [
       "<table>\n",
       "    <thead>\n",
       "        <tr>\n",
       "            <th>cid</th>\n",
       "            <th>name</th>\n",
       "            <th>type</th>\n",
       "            <th>notnull</th>\n",
       "            <th>dflt_value</th>\n",
       "            <th>pk</th>\n",
       "        </tr>\n",
       "    </thead>\n",
       "    <tbody>\n",
       "        <tr>\n",
       "            <td>0</td>\n",
       "            <td>CustomerId</td>\n",
       "            <td>INTEGER</td>\n",
       "            <td>1</td>\n",
       "            <td>None</td>\n",
       "            <td>1</td>\n",
       "        </tr>\n",
       "        <tr>\n",
       "            <td>1</td>\n",
       "            <td>FirstName</td>\n",
       "            <td>NVARCHAR(40)</td>\n",
       "            <td>1</td>\n",
       "            <td>None</td>\n",
       "            <td>0</td>\n",
       "        </tr>\n",
       "        <tr>\n",
       "            <td>2</td>\n",
       "            <td>LastName</td>\n",
       "            <td>NVARCHAR(20)</td>\n",
       "            <td>1</td>\n",
       "            <td>None</td>\n",
       "            <td>0</td>\n",
       "        </tr>\n",
       "        <tr>\n",
       "            <td>3</td>\n",
       "            <td>Company</td>\n",
       "            <td>NVARCHAR(80)</td>\n",
       "            <td>0</td>\n",
       "            <td>None</td>\n",
       "            <td>0</td>\n",
       "        </tr>\n",
       "        <tr>\n",
       "            <td>4</td>\n",
       "            <td>Address</td>\n",
       "            <td>NVARCHAR(70)</td>\n",
       "            <td>0</td>\n",
       "            <td>None</td>\n",
       "            <td>0</td>\n",
       "        </tr>\n",
       "        <tr>\n",
       "            <td>5</td>\n",
       "            <td>City</td>\n",
       "            <td>NVARCHAR(40)</td>\n",
       "            <td>0</td>\n",
       "            <td>None</td>\n",
       "            <td>0</td>\n",
       "        </tr>\n",
       "        <tr>\n",
       "            <td>6</td>\n",
       "            <td>State</td>\n",
       "            <td>NVARCHAR(40)</td>\n",
       "            <td>0</td>\n",
       "            <td>None</td>\n",
       "            <td>0</td>\n",
       "        </tr>\n",
       "        <tr>\n",
       "            <td>7</td>\n",
       "            <td>Country</td>\n",
       "            <td>NVARCHAR(40)</td>\n",
       "            <td>0</td>\n",
       "            <td>None</td>\n",
       "            <td>0</td>\n",
       "        </tr>\n",
       "        <tr>\n",
       "            <td>8</td>\n",
       "            <td>PostalCode</td>\n",
       "            <td>NVARCHAR(10)</td>\n",
       "            <td>0</td>\n",
       "            <td>None</td>\n",
       "            <td>0</td>\n",
       "        </tr>\n",
       "        <tr>\n",
       "            <td>9</td>\n",
       "            <td>Phone</td>\n",
       "            <td>NVARCHAR(24)</td>\n",
       "            <td>0</td>\n",
       "            <td>None</td>\n",
       "            <td>0</td>\n",
       "        </tr>\n",
       "    </tbody>\n",
       "</table>\n",
       "<span style=\"font-style:italic;text-align:center;\">Truncated to <a href=\"https://jupysql.ploomber.io/en/latest/api/configuration.html#displaylimit\">displaylimit</a> of 10.</span>"
      ],
      "text/plain": [
       "+-----+------------+--------------+---------+------------+----+\n",
       "| cid |    name    |     type     | notnull | dflt_value | pk |\n",
       "+-----+------------+--------------+---------+------------+----+\n",
       "|  0  | CustomerId |   INTEGER    |    1    |    None    | 1  |\n",
       "|  1  | FirstName  | NVARCHAR(40) |    1    |    None    | 0  |\n",
       "|  2  |  LastName  | NVARCHAR(20) |    1    |    None    | 0  |\n",
       "|  3  |  Company   | NVARCHAR(80) |    0    |    None    | 0  |\n",
       "|  4  |  Address   | NVARCHAR(70) |    0    |    None    | 0  |\n",
       "|  5  |    City    | NVARCHAR(40) |    0    |    None    | 0  |\n",
       "|  6  |   State    | NVARCHAR(40) |    0    |    None    | 0  |\n",
       "|  7  |  Country   | NVARCHAR(40) |    0    |    None    | 0  |\n",
       "|  8  | PostalCode | NVARCHAR(10) |    0    |    None    | 0  |\n",
       "|  9  |   Phone    | NVARCHAR(24) |    0    |    None    | 0  |\n",
       "+-----+------------+--------------+---------+------------+----+\n",
       "Truncated to displaylimit of 10."
      ]
     },
     "execution_count": 3,
     "metadata": {},
     "output_type": "execute_result"
    }
   ],
   "source": [
    "%%sql\n",
    "\n",
    "PRAGMA table_info(customers);"
   ]
  },
  {
   "cell_type": "markdown",
   "id": "86802726",
   "metadata": {},
   "source": [
    "### Exercise 2\n",
    "\n",
    "\n",
    "Write a query that will return all the columns for the tracks that contain the word love.\n",
    "\n",
    "Limit this to the first 10 results."
   ]
  },
  {
   "cell_type": "code",
   "execution_count": 5,
   "id": "91f3421f",
   "metadata": {},
   "outputs": [
    {
     "data": {
      "text/html": [
       "<span style=\"None\">Running query in &#x27;sqlite:///chinook.db&#x27;</span>"
      ],
      "text/plain": [
       "Running query in 'sqlite:///chinook.db'"
      ]
     },
     "metadata": {},
     "output_type": "display_data"
    },
    {
     "data": {
      "text/html": [
       "<table>\n",
       "    <thead>\n",
       "        <tr>\n",
       "            <th>TrackId</th>\n",
       "            <th>Name</th>\n",
       "            <th>AlbumId</th>\n",
       "            <th>MediaTypeId</th>\n",
       "            <th>GenreId</th>\n",
       "            <th>Composer</th>\n",
       "            <th>Milliseconds</th>\n",
       "            <th>Bytes</th>\n",
       "            <th>UnitPrice</th>\n",
       "        </tr>\n",
       "    </thead>\n",
       "    <tbody>\n",
       "        <tr>\n",
       "            <td>24</td>\n",
       "            <td>Love In An Elevator</td>\n",
       "            <td>5</td>\n",
       "            <td>1</td>\n",
       "            <td>1</td>\n",
       "            <td>Steven Tyler, Joe Perry</td>\n",
       "            <td>321828</td>\n",
       "            <td>10552051</td>\n",
       "            <td>0.99</td>\n",
       "        </tr>\n",
       "        <tr>\n",
       "            <td>56</td>\n",
       "            <td>Love, Hate, Love</td>\n",
       "            <td>7</td>\n",
       "            <td>1</td>\n",
       "            <td>1</td>\n",
       "            <td>Jerry Cantrell, Layne Staley</td>\n",
       "            <td>387134</td>\n",
       "            <td>12575396</td>\n",
       "            <td>0.99</td>\n",
       "        </tr>\n",
       "        <tr>\n",
       "            <td>195</td>\n",
       "            <td>Let Me Love You Baby</td>\n",
       "            <td>20</td>\n",
       "            <td>1</td>\n",
       "            <td>6</td>\n",
       "            <td>Willie Dixon</td>\n",
       "            <td>175386</td>\n",
       "            <td>5716994</td>\n",
       "            <td>0.99</td>\n",
       "        </tr>\n",
       "        <tr>\n",
       "            <td>335</td>\n",
       "            <td>My Love</td>\n",
       "            <td>29</td>\n",
       "            <td>1</td>\n",
       "            <td>9</td>\n",
       "            <td>Jauperi/Zeu Góes</td>\n",
       "            <td>203493</td>\n",
       "            <td>6772813</td>\n",
       "            <td>0.99</td>\n",
       "        </tr>\n",
       "        <tr>\n",
       "            <td>341</td>\n",
       "            <td>The Girl I Love She Got Long Black Wavy Hair</td>\n",
       "            <td>30</td>\n",
       "            <td>1</td>\n",
       "            <td>1</td>\n",
       "            <td>Jimmy Page/John Bonham/John Estes/John Paul Jones/Robert Plant</td>\n",
       "            <td>183327</td>\n",
       "            <td>5995686</td>\n",
       "            <td>0.99</td>\n",
       "        </tr>\n",
       "        <tr>\n",
       "            <td>345</td>\n",
       "            <td>Whole Lotta Love</td>\n",
       "            <td>30</td>\n",
       "            <td>1</td>\n",
       "            <td>1</td>\n",
       "            <td>Jimmy Page/John Bonham/John Paul Jones/Robert Plant/Willie Dixon</td>\n",
       "            <td>373394</td>\n",
       "            <td>12258175</td>\n",
       "            <td>0.99</td>\n",
       "        </tr>\n",
       "        <tr>\n",
       "            <td>413</td>\n",
       "            <td>Loverman</td>\n",
       "            <td>35</td>\n",
       "            <td>1</td>\n",
       "            <td>3</td>\n",
       "            <td>Cave</td>\n",
       "            <td>472764</td>\n",
       "            <td>15446975</td>\n",
       "            <td>0.99</td>\n",
       "        </tr>\n",
       "        <tr>\n",
       "            <td>440</td>\n",
       "            <td>Love Gun</td>\n",
       "            <td>37</td>\n",
       "            <td>1</td>\n",
       "            <td>1</td>\n",
       "            <td>Paul Stanley</td>\n",
       "            <td>196257</td>\n",
       "            <td>6424915</td>\n",
       "            <td>0.99</td>\n",
       "        </tr>\n",
       "        <tr>\n",
       "            <td>444</td>\n",
       "            <td>Do You Love Me</td>\n",
       "            <td>37</td>\n",
       "            <td>1</td>\n",
       "            <td>1</td>\n",
       "            <td>Paul Stanley, B. Ezrin, K. Fowley</td>\n",
       "            <td>214987</td>\n",
       "            <td>6976194</td>\n",
       "            <td>0.99</td>\n",
       "        </tr>\n",
       "        <tr>\n",
       "            <td>449</td>\n",
       "            <td>Calling Dr. Love</td>\n",
       "            <td>37</td>\n",
       "            <td>1</td>\n",
       "            <td>1</td>\n",
       "            <td>Gene Simmons</td>\n",
       "            <td>225332</td>\n",
       "            <td>7395034</td>\n",
       "            <td>0.99</td>\n",
       "        </tr>\n",
       "    </tbody>\n",
       "</table>\n",
       "<span style=\"font-style:italic;text-align:center;\">Truncated to <a href=\"https://jupysql.ploomber.io/en/latest/api/configuration.html#displaylimit\">displaylimit</a> of 10.</span>"
      ],
      "text/plain": [
       "+---------+----------------------------------------------+---------+-------------+---------+------------------------------------------------------------------+--------------+----------+-----------+\n",
       "| TrackId |                     Name                     | AlbumId | MediaTypeId | GenreId |                             Composer                             | Milliseconds |  Bytes   | UnitPrice |\n",
       "+---------+----------------------------------------------+---------+-------------+---------+------------------------------------------------------------------+--------------+----------+-----------+\n",
       "|    24   |             Love In An Elevator              |    5    |      1      |    1    |                     Steven Tyler, Joe Perry                      |    321828    | 10552051 |    0.99   |\n",
       "|    56   |               Love, Hate, Love               |    7    |      1      |    1    |                   Jerry Cantrell, Layne Staley                   |    387134    | 12575396 |    0.99   |\n",
       "|   195   |             Let Me Love You Baby             |    20   |      1      |    6    |                           Willie Dixon                           |    175386    | 5716994  |    0.99   |\n",
       "|   335   |                   My Love                    |    29   |      1      |    9    |                         Jauperi/Zeu Góes                         |    203493    | 6772813  |    0.99   |\n",
       "|   341   | The Girl I Love She Got Long Black Wavy Hair |    30   |      1      |    1    |  Jimmy Page/John Bonham/John Estes/John Paul Jones/Robert Plant  |    183327    | 5995686  |    0.99   |\n",
       "|   345   |               Whole Lotta Love               |    30   |      1      |    1    | Jimmy Page/John Bonham/John Paul Jones/Robert Plant/Willie Dixon |    373394    | 12258175 |    0.99   |\n",
       "|   413   |                   Loverman                   |    35   |      1      |    3    |                               Cave                               |    472764    | 15446975 |    0.99   |\n",
       "|   440   |                   Love Gun                   |    37   |      1      |    1    |                           Paul Stanley                           |    196257    | 6424915  |    0.99   |\n",
       "|   444   |                Do You Love Me                |    37   |      1      |    1    |                Paul Stanley, B. Ezrin, K. Fowley                 |    214987    | 6976194  |    0.99   |\n",
       "|   449   |               Calling Dr. Love               |    37   |      1      |    1    |                           Gene Simmons                           |    225332    | 7395034  |    0.99   |\n",
       "+---------+----------------------------------------------+---------+-------------+---------+------------------------------------------------------------------+--------------+----------+-----------+\n",
       "Truncated to displaylimit of 10."
      ]
     },
     "execution_count": 5,
     "metadata": {},
     "output_type": "execute_result"
    }
   ],
   "source": [
    "%%sql \n",
    "\n",
    "SELECT \n",
    "    * \n",
    "FROM \n",
    "    tracks AS t\n",
    "WHERE \n",
    "    t.Name LIKE \"%love%\"\n",
    "LIMIT 10;\n"
   ]
  },
  {
   "cell_type": "markdown",
   "id": "f0fade51",
   "metadata": {},
   "source": [
    "### Exercise 3\n",
    "\n",
    "\n",
    "Write a query that returns all customers whose first name starts with the letter D."
   ]
  },
  {
   "cell_type": "code",
   "execution_count": 7,
   "id": "748f4263",
   "metadata": {},
   "outputs": [
    {
     "data": {
      "text/html": [
       "<span style=\"None\">Running query in &#x27;sqlite:///chinook.db&#x27;</span>"
      ],
      "text/plain": [
       "Running query in 'sqlite:///chinook.db'"
      ]
     },
     "metadata": {},
     "output_type": "display_data"
    },
    {
     "data": {
      "text/html": [
       "<table>\n",
       "    <thead>\n",
       "        <tr>\n",
       "            <th>CustomerId</th>\n",
       "            <th>FirstName</th>\n",
       "            <th>LastName</th>\n",
       "            <th>Company</th>\n",
       "            <th>Address</th>\n",
       "            <th>City</th>\n",
       "            <th>State</th>\n",
       "            <th>Country</th>\n",
       "            <th>PostalCode</th>\n",
       "            <th>Phone</th>\n",
       "            <th>Fax</th>\n",
       "            <th>Email</th>\n",
       "            <th>SupportRepId</th>\n",
       "        </tr>\n",
       "    </thead>\n",
       "    <tbody>\n",
       "        <tr>\n",
       "            <td>8</td>\n",
       "            <td>Daan</td>\n",
       "            <td>Peeters</td>\n",
       "            <td>None</td>\n",
       "            <td>Grétrystraat 63</td>\n",
       "            <td>Brussels</td>\n",
       "            <td>None</td>\n",
       "            <td>Belgium</td>\n",
       "            <td>1000</td>\n",
       "            <td>+32 02 219 03 03</td>\n",
       "            <td>None</td>\n",
       "            <td>daan_peeters@apple.be</td>\n",
       "            <td>4</td>\n",
       "        </tr>\n",
       "        <tr>\n",
       "            <td>20</td>\n",
       "            <td>Dan</td>\n",
       "            <td>Miller</td>\n",
       "            <td>None</td>\n",
       "            <td>541 Del Medio Avenue</td>\n",
       "            <td>Mountain View</td>\n",
       "            <td>CA</td>\n",
       "            <td>USA</td>\n",
       "            <td>94040-111</td>\n",
       "            <td>+1 (650) 644-3358</td>\n",
       "            <td>None</td>\n",
       "            <td>dmiller@comcast.com</td>\n",
       "            <td>4</td>\n",
       "        </tr>\n",
       "        <tr>\n",
       "            <td>40</td>\n",
       "            <td>Dominique</td>\n",
       "            <td>Lefebvre</td>\n",
       "            <td>None</td>\n",
       "            <td>8, Rue Hanovre</td>\n",
       "            <td>Paris</td>\n",
       "            <td>None</td>\n",
       "            <td>France</td>\n",
       "            <td>75002</td>\n",
       "            <td>+33 01 47 42 71 71</td>\n",
       "            <td>None</td>\n",
       "            <td>dominiquelefebvre@gmail.com</td>\n",
       "            <td>4</td>\n",
       "        </tr>\n",
       "        <tr>\n",
       "            <td>56</td>\n",
       "            <td>Diego</td>\n",
       "            <td>Gutiérrez</td>\n",
       "            <td>None</td>\n",
       "            <td>307 Macacha Güemes</td>\n",
       "            <td>Buenos Aires</td>\n",
       "            <td>None</td>\n",
       "            <td>Argentina</td>\n",
       "            <td>1106</td>\n",
       "            <td>+54 (0)11 4311 4333</td>\n",
       "            <td>None</td>\n",
       "            <td>diego.gutierrez@yahoo.ar</td>\n",
       "            <td>4</td>\n",
       "        </tr>\n",
       "    </tbody>\n",
       "</table>"
      ],
      "text/plain": [
       "+------------+-----------+-----------+---------+----------------------+---------------+-------+-----------+------------+---------------------+------+-----------------------------+--------------+\n",
       "| CustomerId | FirstName |  LastName | Company |       Address        |      City     | State |  Country  | PostalCode |        Phone        | Fax  |            Email            | SupportRepId |\n",
       "+------------+-----------+-----------+---------+----------------------+---------------+-------+-----------+------------+---------------------+------+-----------------------------+--------------+\n",
       "|     8      |    Daan   |  Peeters  |   None  |   Grétrystraat 63    |    Brussels   |  None |  Belgium  |    1000    |   +32 02 219 03 03  | None |    daan_peeters@apple.be    |      4       |\n",
       "|     20     |    Dan    |   Miller  |   None  | 541 Del Medio Avenue | Mountain View |   CA  |    USA    | 94040-111  |  +1 (650) 644-3358  | None |     dmiller@comcast.com     |      4       |\n",
       "|     40     | Dominique |  Lefebvre |   None  |    8, Rue Hanovre    |     Paris     |  None |   France  |   75002    |  +33 01 47 42 71 71 | None | dominiquelefebvre@gmail.com |      4       |\n",
       "|     56     |   Diego   | Gutiérrez |   None  |  307 Macacha Güemes  |  Buenos Aires |  None | Argentina |    1106    | +54 (0)11 4311 4333 | None |   diego.gutierrez@yahoo.ar  |      4       |\n",
       "+------------+-----------+-----------+---------+----------------------+---------------+-------+-----------+------------+---------------------+------+-----------------------------+--------------+"
      ]
     },
     "execution_count": 7,
     "metadata": {},
     "output_type": "execute_result"
    }
   ],
   "source": [
    "%%sql\n",
    "\n",
    "SELECT \n",
    "    *\n",
    "FROM \n",
    "    customers AS c\n",
    "WHERE \n",
    "    c.FirstName LIKE \"D%\";\n",
    "\n"
   ]
  },
  {
   "cell_type": "markdown",
   "id": "f28aef00",
   "metadata": {},
   "source": [
    "### Exercise 4\n",
    "\n",
    "Formulate a query that returns customers with email addresses that have domains that end in three letters."
   ]
  },
  {
   "cell_type": "code",
   "execution_count": 9,
   "id": "f4621a53",
   "metadata": {},
   "outputs": [
    {
     "data": {
      "text/html": [
       "<span style=\"None\">Running query in &#x27;sqlite:///chinook.db&#x27;</span>"
      ],
      "text/plain": [
       "Running query in 'sqlite:///chinook.db'"
      ]
     },
     "metadata": {},
     "output_type": "display_data"
    },
    {
     "data": {
      "text/html": [
       "<table>\n",
       "    <thead>\n",
       "        <tr>\n",
       "            <th>CustomerId</th>\n",
       "            <th>FirstName</th>\n",
       "            <th>LastName</th>\n",
       "            <th>Company</th>\n",
       "            <th>Address</th>\n",
       "            <th>City</th>\n",
       "            <th>State</th>\n",
       "            <th>Country</th>\n",
       "            <th>PostalCode</th>\n",
       "            <th>Phone</th>\n",
       "            <th>Fax</th>\n",
       "            <th>Email</th>\n",
       "            <th>SupportRepId</th>\n",
       "        </tr>\n",
       "    </thead>\n",
       "    <tbody>\n",
       "        <tr>\n",
       "            <td>3</td>\n",
       "            <td>François</td>\n",
       "            <td>Tremblay</td>\n",
       "            <td>None</td>\n",
       "            <td>1498 rue Bélanger</td>\n",
       "            <td>Montréal</td>\n",
       "            <td>QC</td>\n",
       "            <td>Canada</td>\n",
       "            <td>H2G 1A7</td>\n",
       "            <td>+1 (514) 721-4711</td>\n",
       "            <td>None</td>\n",
       "            <td>ftremblay@gmail.com</td>\n",
       "            <td>3</td>\n",
       "        </tr>\n",
       "        <tr>\n",
       "            <td>5</td>\n",
       "            <td>František</td>\n",
       "            <td>Wichterlová</td>\n",
       "            <td>JetBrains s.r.o.</td>\n",
       "            <td>Klanova 9/506</td>\n",
       "            <td>Prague</td>\n",
       "            <td>None</td>\n",
       "            <td>Czech Republic</td>\n",
       "            <td>14700</td>\n",
       "            <td>+420 2 4172 5555</td>\n",
       "            <td>+420 2 4172 5555</td>\n",
       "            <td>frantisekw@jetbrains.com</td>\n",
       "            <td>4</td>\n",
       "        </tr>\n",
       "        <tr>\n",
       "            <td>6</td>\n",
       "            <td>Helena</td>\n",
       "            <td>Holý</td>\n",
       "            <td>None</td>\n",
       "            <td>Rilská 3174/6</td>\n",
       "            <td>Prague</td>\n",
       "            <td>None</td>\n",
       "            <td>Czech Republic</td>\n",
       "            <td>14300</td>\n",
       "            <td>+420 2 4177 0449</td>\n",
       "            <td>None</td>\n",
       "            <td>hholy@gmail.com</td>\n",
       "            <td>5</td>\n",
       "        </tr>\n",
       "        <tr>\n",
       "            <td>16</td>\n",
       "            <td>Frank</td>\n",
       "            <td>Harris</td>\n",
       "            <td>Google Inc.</td>\n",
       "            <td>1600 Amphitheatre Parkway</td>\n",
       "            <td>Mountain View</td>\n",
       "            <td>CA</td>\n",
       "            <td>USA</td>\n",
       "            <td>94043-1351</td>\n",
       "            <td>+1 (650) 253-0000</td>\n",
       "            <td>+1 (650) 253-0000</td>\n",
       "            <td>fharris@google.com</td>\n",
       "            <td>4</td>\n",
       "        </tr>\n",
       "        <tr>\n",
       "            <td>17</td>\n",
       "            <td>Jack</td>\n",
       "            <td>Smith</td>\n",
       "            <td>Microsoft Corporation</td>\n",
       "            <td>1 Microsoft Way</td>\n",
       "            <td>Redmond</td>\n",
       "            <td>WA</td>\n",
       "            <td>USA</td>\n",
       "            <td>98052-8300</td>\n",
       "            <td>+1 (425) 882-8080</td>\n",
       "            <td>+1 (425) 882-8081</td>\n",
       "            <td>jacksmith@microsoft.com</td>\n",
       "            <td>5</td>\n",
       "        </tr>\n",
       "    </tbody>\n",
       "</table>"
      ],
      "text/plain": [
       "+------------+-----------+-------------+-----------------------+---------------------------+---------------+-------+----------------+------------+-------------------+-------------------+--------------------------+--------------+\n",
       "| CustomerId | FirstName |   LastName  |        Company        |          Address          |      City     | State |    Country     | PostalCode |       Phone       |        Fax        |          Email           | SupportRepId |\n",
       "+------------+-----------+-------------+-----------------------+---------------------------+---------------+-------+----------------+------------+-------------------+-------------------+--------------------------+--------------+\n",
       "|     3      |  François |   Tremblay  |          None         |     1498 rue Bélanger     |    Montréal   |   QC  |     Canada     |  H2G 1A7   | +1 (514) 721-4711 |        None       |   ftremblay@gmail.com    |      3       |\n",
       "|     5      | František | Wichterlová |    JetBrains s.r.o.   |       Klanova 9/506       |     Prague    |  None | Czech Republic |   14700    |  +420 2 4172 5555 |  +420 2 4172 5555 | frantisekw@jetbrains.com |      4       |\n",
       "|     6      |   Helena  |     Holý    |          None         |       Rilská 3174/6       |     Prague    |  None | Czech Republic |   14300    |  +420 2 4177 0449 |        None       |     hholy@gmail.com      |      5       |\n",
       "|     16     |   Frank   |    Harris   |      Google Inc.      | 1600 Amphitheatre Parkway | Mountain View |   CA  |      USA       | 94043-1351 | +1 (650) 253-0000 | +1 (650) 253-0000 |    fharris@google.com    |      4       |\n",
       "|     17     |    Jack   |    Smith    | Microsoft Corporation |      1 Microsoft Way      |    Redmond    |   WA  |      USA       | 98052-8300 | +1 (425) 882-8080 | +1 (425) 882-8081 | jacksmith@microsoft.com  |      5       |\n",
       "+------------+-----------+-------------+-----------------------+---------------------------+---------------+-------+----------------+------------+-------------------+-------------------+--------------------------+--------------+"
      ]
     },
     "execution_count": 9,
     "metadata": {},
     "output_type": "execute_result"
    }
   ],
   "source": [
    "%%sql\n",
    "\n",
    "SELECT *\n",
    "FROM customers AS c\n",
    "WHERE c.Email LIKE \"%.___\"\n",
    "LIMIT 5;"
   ]
  },
  {
   "cell_type": "markdown",
   "id": "7a51093c",
   "metadata": {},
   "source": [
    "### Exercise 5\n",
    "\n",
    "Write a query that shows all customers who live in the UK."
   ]
  },
  {
   "cell_type": "code",
   "execution_count": 11,
   "id": "99479d5f",
   "metadata": {},
   "outputs": [
    {
     "data": {
      "text/html": [
       "<span style=\"None\">Running query in &#x27;sqlite:///chinook.db&#x27;</span>"
      ],
      "text/plain": [
       "Running query in 'sqlite:///chinook.db'"
      ]
     },
     "metadata": {},
     "output_type": "display_data"
    },
    {
     "data": {
      "text/html": [
       "<table>\n",
       "    <thead>\n",
       "        <tr>\n",
       "            <th>CustomerId</th>\n",
       "            <th>FirstName</th>\n",
       "            <th>LastName</th>\n",
       "            <th>Company</th>\n",
       "            <th>Address</th>\n",
       "            <th>City</th>\n",
       "            <th>State</th>\n",
       "            <th>Country</th>\n",
       "            <th>PostalCode</th>\n",
       "            <th>Phone</th>\n",
       "            <th>Fax</th>\n",
       "            <th>Email</th>\n",
       "            <th>SupportRepId</th>\n",
       "        </tr>\n",
       "    </thead>\n",
       "    <tbody>\n",
       "        <tr>\n",
       "            <td>52</td>\n",
       "            <td>Emma</td>\n",
       "            <td>Jones</td>\n",
       "            <td>None</td>\n",
       "            <td>202 Hoxton Street</td>\n",
       "            <td>London</td>\n",
       "            <td>None</td>\n",
       "            <td>United Kingdom</td>\n",
       "            <td>N1 5LH</td>\n",
       "            <td>+44 020 7707 0707</td>\n",
       "            <td>None</td>\n",
       "            <td>emma_jones@hotmail.com</td>\n",
       "            <td>3</td>\n",
       "        </tr>\n",
       "        <tr>\n",
       "            <td>53</td>\n",
       "            <td>Phil</td>\n",
       "            <td>Hughes</td>\n",
       "            <td>None</td>\n",
       "            <td>113 Lupus St</td>\n",
       "            <td>London</td>\n",
       "            <td>None</td>\n",
       "            <td>United Kingdom</td>\n",
       "            <td>SW1V 3EN</td>\n",
       "            <td>+44 020 7976 5722</td>\n",
       "            <td>None</td>\n",
       "            <td>phil.hughes@gmail.com</td>\n",
       "            <td>3</td>\n",
       "        </tr>\n",
       "        <tr>\n",
       "            <td>54</td>\n",
       "            <td>Steve</td>\n",
       "            <td>Murray</td>\n",
       "            <td>None</td>\n",
       "            <td>110 Raeburn Pl</td>\n",
       "            <td>Edinburgh </td>\n",
       "            <td>None</td>\n",
       "            <td>United Kingdom</td>\n",
       "            <td>EH4 1HH</td>\n",
       "            <td>+44 0131 315 3300</td>\n",
       "            <td>None</td>\n",
       "            <td>steve.murray@yahoo.uk</td>\n",
       "            <td>5</td>\n",
       "        </tr>\n",
       "    </tbody>\n",
       "</table>"
      ],
      "text/plain": [
       "+------------+-----------+----------+---------+-------------------+------------+-------+----------------+------------+-------------------+------+------------------------+--------------+\n",
       "| CustomerId | FirstName | LastName | Company |      Address      |    City    | State |    Country     | PostalCode |       Phone       | Fax  |         Email          | SupportRepId |\n",
       "+------------+-----------+----------+---------+-------------------+------------+-------+----------------+------------+-------------------+------+------------------------+--------------+\n",
       "|     52     |    Emma   |  Jones   |   None  | 202 Hoxton Street |   London   |  None | United Kingdom |   N1 5LH   | +44 020 7707 0707 | None | emma_jones@hotmail.com |      3       |\n",
       "|     53     |    Phil   |  Hughes  |   None  |    113 Lupus St   |   London   |  None | United Kingdom |  SW1V 3EN  | +44 020 7976 5722 | None | phil.hughes@gmail.com  |      3       |\n",
       "|     54     |   Steve   |  Murray  |   None  |   110 Raeburn Pl  | Edinburgh  |  None | United Kingdom |  EH4 1HH   | +44 0131 315 3300 | None | steve.murray@yahoo.uk  |      5       |\n",
       "+------------+-----------+----------+---------+-------------------+------------+-------+----------------+------------+-------------------+------+------------------------+--------------+"
      ]
     },
     "execution_count": 11,
     "metadata": {},
     "output_type": "execute_result"
    }
   ],
   "source": [
    "%%sql\n",
    "\n",
    "SELECT \n",
    "    *\n",
    "FROM \n",
    "    customers\n",
    "WHERE \n",
    "    LOWER(country) = \"united kingdom\";\n"
   ]
  },
  {
   "cell_type": "markdown",
   "id": "f36f5481",
   "metadata": {},
   "source": [
    "### Exercise 6\n",
    "Write a query that shows employee first and last names in the same column."
   ]
  },
  {
   "cell_type": "code",
   "execution_count": 13,
   "id": "9cd7b2d8",
   "metadata": {},
   "outputs": [
    {
     "data": {
      "text/html": [
       "<span style=\"None\">Running query in &#x27;sqlite:///chinook.db&#x27;</span>"
      ],
      "text/plain": [
       "Running query in 'sqlite:///chinook.db'"
      ]
     },
     "metadata": {},
     "output_type": "display_data"
    },
    {
     "data": {
      "text/html": [
       "<table>\n",
       "    <thead>\n",
       "        <tr>\n",
       "            <th>Full Name</th>\n",
       "        </tr>\n",
       "    </thead>\n",
       "    <tbody>\n",
       "        <tr>\n",
       "            <td>Andrew Adams</td>\n",
       "        </tr>\n",
       "        <tr>\n",
       "            <td>Nancy Edwards</td>\n",
       "        </tr>\n",
       "        <tr>\n",
       "            <td>Jane Peacock</td>\n",
       "        </tr>\n",
       "        <tr>\n",
       "            <td>Margaret Park</td>\n",
       "        </tr>\n",
       "        <tr>\n",
       "            <td>Steve Johnson</td>\n",
       "        </tr>\n",
       "        <tr>\n",
       "            <td>Michael Mitchell</td>\n",
       "        </tr>\n",
       "        <tr>\n",
       "            <td>Robert King</td>\n",
       "        </tr>\n",
       "        <tr>\n",
       "            <td>Laura Callahan</td>\n",
       "        </tr>\n",
       "    </tbody>\n",
       "</table>"
      ],
      "text/plain": [
       "+------------------+\n",
       "|    Full Name     |\n",
       "+------------------+\n",
       "|   Andrew Adams   |\n",
       "|  Nancy Edwards   |\n",
       "|   Jane Peacock   |\n",
       "|  Margaret Park   |\n",
       "|  Steve Johnson   |\n",
       "| Michael Mitchell |\n",
       "|   Robert King    |\n",
       "|  Laura Callahan  |\n",
       "+------------------+"
      ]
     },
     "execution_count": 13,
     "metadata": {},
     "output_type": "execute_result"
    }
   ],
   "source": [
    "%%sql\n",
    "\n",
    "SELECT FirstName || \" \" || LastName AS \"Full Name\"\n",
    "FROM employees;\n"
   ]
  },
  {
   "cell_type": "markdown",
   "id": "b3c88335",
   "metadata": {},
   "source": [
    "## Solutions"
   ]
  },
  {
   "cell_type": "markdown",
   "id": "a5084b12",
   "metadata": {},
   "source": [
    "### Exercise 1"
   ]
  },
  {
   "cell_type": "code",
   "execution_count": 4,
   "id": "c968d875",
   "metadata": {
    "scrolled": true
   },
   "outputs": [
    {
     "data": {
      "text/html": [
       "<span style=\"None\">Running query in &#x27;sqlite:///chinook.db&#x27;</span>"
      ],
      "text/plain": [
       "Running query in 'sqlite:///chinook.db'"
      ]
     },
     "metadata": {},
     "output_type": "display_data"
    },
    {
     "data": {
      "text/html": [
       "<table>\n",
       "    <thead>\n",
       "        <tr>\n",
       "            <th>cid</th>\n",
       "            <th>name</th>\n",
       "            <th>type</th>\n",
       "            <th>notnull</th>\n",
       "            <th>dflt_value</th>\n",
       "            <th>pk</th>\n",
       "        </tr>\n",
       "    </thead>\n",
       "    <tbody>\n",
       "        <tr>\n",
       "            <td>0</td>\n",
       "            <td>CustomerId</td>\n",
       "            <td>INTEGER</td>\n",
       "            <td>1</td>\n",
       "            <td>None</td>\n",
       "            <td>1</td>\n",
       "        </tr>\n",
       "        <tr>\n",
       "            <td>1</td>\n",
       "            <td>FirstName</td>\n",
       "            <td>NVARCHAR(40)</td>\n",
       "            <td>1</td>\n",
       "            <td>None</td>\n",
       "            <td>0</td>\n",
       "        </tr>\n",
       "        <tr>\n",
       "            <td>2</td>\n",
       "            <td>LastName</td>\n",
       "            <td>NVARCHAR(20)</td>\n",
       "            <td>1</td>\n",
       "            <td>None</td>\n",
       "            <td>0</td>\n",
       "        </tr>\n",
       "        <tr>\n",
       "            <td>3</td>\n",
       "            <td>Company</td>\n",
       "            <td>NVARCHAR(80)</td>\n",
       "            <td>0</td>\n",
       "            <td>None</td>\n",
       "            <td>0</td>\n",
       "        </tr>\n",
       "        <tr>\n",
       "            <td>4</td>\n",
       "            <td>Address</td>\n",
       "            <td>NVARCHAR(70)</td>\n",
       "            <td>0</td>\n",
       "            <td>None</td>\n",
       "            <td>0</td>\n",
       "        </tr>\n",
       "        <tr>\n",
       "            <td>5</td>\n",
       "            <td>City</td>\n",
       "            <td>NVARCHAR(40)</td>\n",
       "            <td>0</td>\n",
       "            <td>None</td>\n",
       "            <td>0</td>\n",
       "        </tr>\n",
       "        <tr>\n",
       "            <td>6</td>\n",
       "            <td>State</td>\n",
       "            <td>NVARCHAR(40)</td>\n",
       "            <td>0</td>\n",
       "            <td>None</td>\n",
       "            <td>0</td>\n",
       "        </tr>\n",
       "        <tr>\n",
       "            <td>7</td>\n",
       "            <td>Country</td>\n",
       "            <td>NVARCHAR(40)</td>\n",
       "            <td>0</td>\n",
       "            <td>None</td>\n",
       "            <td>0</td>\n",
       "        </tr>\n",
       "        <tr>\n",
       "            <td>8</td>\n",
       "            <td>PostalCode</td>\n",
       "            <td>NVARCHAR(10)</td>\n",
       "            <td>0</td>\n",
       "            <td>None</td>\n",
       "            <td>0</td>\n",
       "        </tr>\n",
       "        <tr>\n",
       "            <td>9</td>\n",
       "            <td>Phone</td>\n",
       "            <td>NVARCHAR(24)</td>\n",
       "            <td>0</td>\n",
       "            <td>None</td>\n",
       "            <td>0</td>\n",
       "        </tr>\n",
       "    </tbody>\n",
       "</table>\n",
       "<span style=\"font-style:italic;text-align:center;\">Truncated to <a href=\"https://jupysql.ploomber.io/en/latest/api/configuration.html#displaylimit\">displaylimit</a> of 10.</span>"
      ],
      "text/plain": [
       "+-----+------------+--------------+---------+------------+----+\n",
       "| cid |    name    |     type     | notnull | dflt_value | pk |\n",
       "+-----+------------+--------------+---------+------------+----+\n",
       "|  0  | CustomerId |   INTEGER    |    1    |    None    | 1  |\n",
       "|  1  | FirstName  | NVARCHAR(40) |    1    |    None    | 0  |\n",
       "|  2  |  LastName  | NVARCHAR(20) |    1    |    None    | 0  |\n",
       "|  3  |  Company   | NVARCHAR(80) |    0    |    None    | 0  |\n",
       "|  4  |  Address   | NVARCHAR(70) |    0    |    None    | 0  |\n",
       "|  5  |    City    | NVARCHAR(40) |    0    |    None    | 0  |\n",
       "|  6  |   State    | NVARCHAR(40) |    0    |    None    | 0  |\n",
       "|  7  |  Country   | NVARCHAR(40) |    0    |    None    | 0  |\n",
       "|  8  | PostalCode | NVARCHAR(10) |    0    |    None    | 0  |\n",
       "|  9  |   Phone    | NVARCHAR(24) |    0    |    None    | 0  |\n",
       "+-----+------------+--------------+---------+------------+----+\n",
       "Truncated to displaylimit of 10."
      ]
     },
     "execution_count": 4,
     "metadata": {},
     "output_type": "execute_result"
    }
   ],
   "source": [
    "%%sql\n",
    "\n",
    "PRAGMA table_info(customers);"
   ]
  },
  {
   "cell_type": "markdown",
   "id": "294d8eef",
   "metadata": {},
   "source": [
    "### Exercise 2"
   ]
  },
  {
   "cell_type": "code",
   "execution_count": 6,
   "id": "03071e34",
   "metadata": {},
   "outputs": [
    {
     "data": {
      "text/html": [
       "<span style=\"None\">Running query in &#x27;sqlite:///chinook.db&#x27;</span>"
      ],
      "text/plain": [
       "Running query in 'sqlite:///chinook.db'"
      ]
     },
     "metadata": {},
     "output_type": "display_data"
    },
    {
     "data": {
      "text/html": [
       "<table>\n",
       "    <thead>\n",
       "        <tr>\n",
       "            <th>TrackId</th>\n",
       "            <th>Name</th>\n",
       "            <th>AlbumId</th>\n",
       "            <th>MediaTypeId</th>\n",
       "            <th>GenreId</th>\n",
       "            <th>Composer</th>\n",
       "            <th>Milliseconds</th>\n",
       "            <th>Bytes</th>\n",
       "            <th>UnitPrice</th>\n",
       "        </tr>\n",
       "    </thead>\n",
       "    <tbody>\n",
       "        <tr>\n",
       "            <td>24</td>\n",
       "            <td>Love In An Elevator</td>\n",
       "            <td>5</td>\n",
       "            <td>1</td>\n",
       "            <td>1</td>\n",
       "            <td>Steven Tyler, Joe Perry</td>\n",
       "            <td>321828</td>\n",
       "            <td>10552051</td>\n",
       "            <td>0.99</td>\n",
       "        </tr>\n",
       "        <tr>\n",
       "            <td>56</td>\n",
       "            <td>Love, Hate, Love</td>\n",
       "            <td>7</td>\n",
       "            <td>1</td>\n",
       "            <td>1</td>\n",
       "            <td>Jerry Cantrell, Layne Staley</td>\n",
       "            <td>387134</td>\n",
       "            <td>12575396</td>\n",
       "            <td>0.99</td>\n",
       "        </tr>\n",
       "        <tr>\n",
       "            <td>195</td>\n",
       "            <td>Let Me Love You Baby</td>\n",
       "            <td>20</td>\n",
       "            <td>1</td>\n",
       "            <td>6</td>\n",
       "            <td>Willie Dixon</td>\n",
       "            <td>175386</td>\n",
       "            <td>5716994</td>\n",
       "            <td>0.99</td>\n",
       "        </tr>\n",
       "        <tr>\n",
       "            <td>335</td>\n",
       "            <td>My Love</td>\n",
       "            <td>29</td>\n",
       "            <td>1</td>\n",
       "            <td>9</td>\n",
       "            <td>Jauperi/Zeu Góes</td>\n",
       "            <td>203493</td>\n",
       "            <td>6772813</td>\n",
       "            <td>0.99</td>\n",
       "        </tr>\n",
       "        <tr>\n",
       "            <td>341</td>\n",
       "            <td>The Girl I Love She Got Long Black Wavy Hair</td>\n",
       "            <td>30</td>\n",
       "            <td>1</td>\n",
       "            <td>1</td>\n",
       "            <td>Jimmy Page/John Bonham/John Estes/John Paul Jones/Robert Plant</td>\n",
       "            <td>183327</td>\n",
       "            <td>5995686</td>\n",
       "            <td>0.99</td>\n",
       "        </tr>\n",
       "        <tr>\n",
       "            <td>345</td>\n",
       "            <td>Whole Lotta Love</td>\n",
       "            <td>30</td>\n",
       "            <td>1</td>\n",
       "            <td>1</td>\n",
       "            <td>Jimmy Page/John Bonham/John Paul Jones/Robert Plant/Willie Dixon</td>\n",
       "            <td>373394</td>\n",
       "            <td>12258175</td>\n",
       "            <td>0.99</td>\n",
       "        </tr>\n",
       "        <tr>\n",
       "            <td>413</td>\n",
       "            <td>Loverman</td>\n",
       "            <td>35</td>\n",
       "            <td>1</td>\n",
       "            <td>3</td>\n",
       "            <td>Cave</td>\n",
       "            <td>472764</td>\n",
       "            <td>15446975</td>\n",
       "            <td>0.99</td>\n",
       "        </tr>\n",
       "        <tr>\n",
       "            <td>440</td>\n",
       "            <td>Love Gun</td>\n",
       "            <td>37</td>\n",
       "            <td>1</td>\n",
       "            <td>1</td>\n",
       "            <td>Paul Stanley</td>\n",
       "            <td>196257</td>\n",
       "            <td>6424915</td>\n",
       "            <td>0.99</td>\n",
       "        </tr>\n",
       "        <tr>\n",
       "            <td>444</td>\n",
       "            <td>Do You Love Me</td>\n",
       "            <td>37</td>\n",
       "            <td>1</td>\n",
       "            <td>1</td>\n",
       "            <td>Paul Stanley, B. Ezrin, K. Fowley</td>\n",
       "            <td>214987</td>\n",
       "            <td>6976194</td>\n",
       "            <td>0.99</td>\n",
       "        </tr>\n",
       "        <tr>\n",
       "            <td>449</td>\n",
       "            <td>Calling Dr. Love</td>\n",
       "            <td>37</td>\n",
       "            <td>1</td>\n",
       "            <td>1</td>\n",
       "            <td>Gene Simmons</td>\n",
       "            <td>225332</td>\n",
       "            <td>7395034</td>\n",
       "            <td>0.99</td>\n",
       "        </tr>\n",
       "    </tbody>\n",
       "</table>\n",
       "<span style=\"font-style:italic;text-align:center;\">Truncated to <a href=\"https://jupysql.ploomber.io/en/latest/api/configuration.html#displaylimit\">displaylimit</a> of 10.</span>"
      ],
      "text/plain": [
       "+---------+----------------------------------------------+---------+-------------+---------+------------------------------------------------------------------+--------------+----------+-----------+\n",
       "| TrackId |                     Name                     | AlbumId | MediaTypeId | GenreId |                             Composer                             | Milliseconds |  Bytes   | UnitPrice |\n",
       "+---------+----------------------------------------------+---------+-------------+---------+------------------------------------------------------------------+--------------+----------+-----------+\n",
       "|    24   |             Love In An Elevator              |    5    |      1      |    1    |                     Steven Tyler, Joe Perry                      |    321828    | 10552051 |    0.99   |\n",
       "|    56   |               Love, Hate, Love               |    7    |      1      |    1    |                   Jerry Cantrell, Layne Staley                   |    387134    | 12575396 |    0.99   |\n",
       "|   195   |             Let Me Love You Baby             |    20   |      1      |    6    |                           Willie Dixon                           |    175386    | 5716994  |    0.99   |\n",
       "|   335   |                   My Love                    |    29   |      1      |    9    |                         Jauperi/Zeu Góes                         |    203493    | 6772813  |    0.99   |\n",
       "|   341   | The Girl I Love She Got Long Black Wavy Hair |    30   |      1      |    1    |  Jimmy Page/John Bonham/John Estes/John Paul Jones/Robert Plant  |    183327    | 5995686  |    0.99   |\n",
       "|   345   |               Whole Lotta Love               |    30   |      1      |    1    | Jimmy Page/John Bonham/John Paul Jones/Robert Plant/Willie Dixon |    373394    | 12258175 |    0.99   |\n",
       "|   413   |                   Loverman                   |    35   |      1      |    3    |                               Cave                               |    472764    | 15446975 |    0.99   |\n",
       "|   440   |                   Love Gun                   |    37   |      1      |    1    |                           Paul Stanley                           |    196257    | 6424915  |    0.99   |\n",
       "|   444   |                Do You Love Me                |    37   |      1      |    1    |                Paul Stanley, B. Ezrin, K. Fowley                 |    214987    | 6976194  |    0.99   |\n",
       "|   449   |               Calling Dr. Love               |    37   |      1      |    1    |                           Gene Simmons                           |    225332    | 7395034  |    0.99   |\n",
       "+---------+----------------------------------------------+---------+-------------+---------+------------------------------------------------------------------+--------------+----------+-----------+\n",
       "Truncated to displaylimit of 10."
      ]
     },
     "execution_count": 6,
     "metadata": {},
     "output_type": "execute_result"
    }
   ],
   "source": [
    "%%sql \n",
    "\n",
    "SELECT \n",
    "    * \n",
    "FROM \n",
    "    tracks AS t\n",
    "WHERE \n",
    "    t.Name LIKE \"%love%\"\n",
    "LIMIT 10;\n"
   ]
  },
  {
   "cell_type": "markdown",
   "id": "eafe40b6",
   "metadata": {},
   "source": [
    "### Exercise 3"
   ]
  },
  {
   "cell_type": "code",
   "execution_count": 8,
   "id": "1ffd2239",
   "metadata": {},
   "outputs": [
    {
     "data": {
      "text/html": [
       "<span style=\"None\">Running query in &#x27;sqlite:///chinook.db&#x27;</span>"
      ],
      "text/plain": [
       "Running query in 'sqlite:///chinook.db'"
      ]
     },
     "metadata": {},
     "output_type": "display_data"
    },
    {
     "data": {
      "text/html": [
       "<table>\n",
       "    <thead>\n",
       "        <tr>\n",
       "            <th>CustomerId</th>\n",
       "            <th>FirstName</th>\n",
       "            <th>LastName</th>\n",
       "            <th>Company</th>\n",
       "            <th>Address</th>\n",
       "            <th>City</th>\n",
       "            <th>State</th>\n",
       "            <th>Country</th>\n",
       "            <th>PostalCode</th>\n",
       "            <th>Phone</th>\n",
       "            <th>Fax</th>\n",
       "            <th>Email</th>\n",
       "            <th>SupportRepId</th>\n",
       "        </tr>\n",
       "    </thead>\n",
       "    <tbody>\n",
       "        <tr>\n",
       "            <td>8</td>\n",
       "            <td>Daan</td>\n",
       "            <td>Peeters</td>\n",
       "            <td>None</td>\n",
       "            <td>Grétrystraat 63</td>\n",
       "            <td>Brussels</td>\n",
       "            <td>None</td>\n",
       "            <td>Belgium</td>\n",
       "            <td>1000</td>\n",
       "            <td>+32 02 219 03 03</td>\n",
       "            <td>None</td>\n",
       "            <td>daan_peeters@apple.be</td>\n",
       "            <td>4</td>\n",
       "        </tr>\n",
       "        <tr>\n",
       "            <td>20</td>\n",
       "            <td>Dan</td>\n",
       "            <td>Miller</td>\n",
       "            <td>None</td>\n",
       "            <td>541 Del Medio Avenue</td>\n",
       "            <td>Mountain View</td>\n",
       "            <td>CA</td>\n",
       "            <td>USA</td>\n",
       "            <td>94040-111</td>\n",
       "            <td>+1 (650) 644-3358</td>\n",
       "            <td>None</td>\n",
       "            <td>dmiller@comcast.com</td>\n",
       "            <td>4</td>\n",
       "        </tr>\n",
       "        <tr>\n",
       "            <td>40</td>\n",
       "            <td>Dominique</td>\n",
       "            <td>Lefebvre</td>\n",
       "            <td>None</td>\n",
       "            <td>8, Rue Hanovre</td>\n",
       "            <td>Paris</td>\n",
       "            <td>None</td>\n",
       "            <td>France</td>\n",
       "            <td>75002</td>\n",
       "            <td>+33 01 47 42 71 71</td>\n",
       "            <td>None</td>\n",
       "            <td>dominiquelefebvre@gmail.com</td>\n",
       "            <td>4</td>\n",
       "        </tr>\n",
       "        <tr>\n",
       "            <td>56</td>\n",
       "            <td>Diego</td>\n",
       "            <td>Gutiérrez</td>\n",
       "            <td>None</td>\n",
       "            <td>307 Macacha Güemes</td>\n",
       "            <td>Buenos Aires</td>\n",
       "            <td>None</td>\n",
       "            <td>Argentina</td>\n",
       "            <td>1106</td>\n",
       "            <td>+54 (0)11 4311 4333</td>\n",
       "            <td>None</td>\n",
       "            <td>diego.gutierrez@yahoo.ar</td>\n",
       "            <td>4</td>\n",
       "        </tr>\n",
       "    </tbody>\n",
       "</table>"
      ],
      "text/plain": [
       "+------------+-----------+-----------+---------+----------------------+---------------+-------+-----------+------------+---------------------+------+-----------------------------+--------------+\n",
       "| CustomerId | FirstName |  LastName | Company |       Address        |      City     | State |  Country  | PostalCode |        Phone        | Fax  |            Email            | SupportRepId |\n",
       "+------------+-----------+-----------+---------+----------------------+---------------+-------+-----------+------------+---------------------+------+-----------------------------+--------------+\n",
       "|     8      |    Daan   |  Peeters  |   None  |   Grétrystraat 63    |    Brussels   |  None |  Belgium  |    1000    |   +32 02 219 03 03  | None |    daan_peeters@apple.be    |      4       |\n",
       "|     20     |    Dan    |   Miller  |   None  | 541 Del Medio Avenue | Mountain View |   CA  |    USA    | 94040-111  |  +1 (650) 644-3358  | None |     dmiller@comcast.com     |      4       |\n",
       "|     40     | Dominique |  Lefebvre |   None  |    8, Rue Hanovre    |     Paris     |  None |   France  |   75002    |  +33 01 47 42 71 71 | None | dominiquelefebvre@gmail.com |      4       |\n",
       "|     56     |   Diego   | Gutiérrez |   None  |  307 Macacha Güemes  |  Buenos Aires |  None | Argentina |    1106    | +54 (0)11 4311 4333 | None |   diego.gutierrez@yahoo.ar  |      4       |\n",
       "+------------+-----------+-----------+---------+----------------------+---------------+-------+-----------+------------+---------------------+------+-----------------------------+--------------+"
      ]
     },
     "execution_count": 8,
     "metadata": {},
     "output_type": "execute_result"
    }
   ],
   "source": [
    "%%sql\n",
    "\n",
    "SELECT \n",
    "    *\n",
    "FROM \n",
    "    customers AS c\n",
    "WHERE \n",
    "    c.FirstName LIKE \"D%\";\n"
   ]
  },
  {
   "cell_type": "markdown",
   "id": "e9956efe",
   "metadata": {},
   "source": [
    "### Exercise 4"
   ]
  },
  {
   "cell_type": "code",
   "execution_count": 10,
   "id": "cd662edc",
   "metadata": {},
   "outputs": [
    {
     "data": {
      "text/html": [
       "<span style=\"None\">Running query in &#x27;sqlite:///chinook.db&#x27;</span>"
      ],
      "text/plain": [
       "Running query in 'sqlite:///chinook.db'"
      ]
     },
     "metadata": {},
     "output_type": "display_data"
    },
    {
     "data": {
      "text/html": [
       "<table>\n",
       "    <thead>\n",
       "        <tr>\n",
       "            <th>CustomerId</th>\n",
       "            <th>FirstName</th>\n",
       "            <th>LastName</th>\n",
       "            <th>Company</th>\n",
       "            <th>Address</th>\n",
       "            <th>City</th>\n",
       "            <th>State</th>\n",
       "            <th>Country</th>\n",
       "            <th>PostalCode</th>\n",
       "            <th>Phone</th>\n",
       "            <th>Fax</th>\n",
       "            <th>Email</th>\n",
       "            <th>SupportRepId</th>\n",
       "        </tr>\n",
       "    </thead>\n",
       "    <tbody>\n",
       "        <tr>\n",
       "            <td>3</td>\n",
       "            <td>François</td>\n",
       "            <td>Tremblay</td>\n",
       "            <td>None</td>\n",
       "            <td>1498 rue Bélanger</td>\n",
       "            <td>Montréal</td>\n",
       "            <td>QC</td>\n",
       "            <td>Canada</td>\n",
       "            <td>H2G 1A7</td>\n",
       "            <td>+1 (514) 721-4711</td>\n",
       "            <td>None</td>\n",
       "            <td>ftremblay@gmail.com</td>\n",
       "            <td>3</td>\n",
       "        </tr>\n",
       "        <tr>\n",
       "            <td>5</td>\n",
       "            <td>František</td>\n",
       "            <td>Wichterlová</td>\n",
       "            <td>JetBrains s.r.o.</td>\n",
       "            <td>Klanova 9/506</td>\n",
       "            <td>Prague</td>\n",
       "            <td>None</td>\n",
       "            <td>Czech Republic</td>\n",
       "            <td>14700</td>\n",
       "            <td>+420 2 4172 5555</td>\n",
       "            <td>+420 2 4172 5555</td>\n",
       "            <td>frantisekw@jetbrains.com</td>\n",
       "            <td>4</td>\n",
       "        </tr>\n",
       "        <tr>\n",
       "            <td>6</td>\n",
       "            <td>Helena</td>\n",
       "            <td>Holý</td>\n",
       "            <td>None</td>\n",
       "            <td>Rilská 3174/6</td>\n",
       "            <td>Prague</td>\n",
       "            <td>None</td>\n",
       "            <td>Czech Republic</td>\n",
       "            <td>14300</td>\n",
       "            <td>+420 2 4177 0449</td>\n",
       "            <td>None</td>\n",
       "            <td>hholy@gmail.com</td>\n",
       "            <td>5</td>\n",
       "        </tr>\n",
       "        <tr>\n",
       "            <td>16</td>\n",
       "            <td>Frank</td>\n",
       "            <td>Harris</td>\n",
       "            <td>Google Inc.</td>\n",
       "            <td>1600 Amphitheatre Parkway</td>\n",
       "            <td>Mountain View</td>\n",
       "            <td>CA</td>\n",
       "            <td>USA</td>\n",
       "            <td>94043-1351</td>\n",
       "            <td>+1 (650) 253-0000</td>\n",
       "            <td>+1 (650) 253-0000</td>\n",
       "            <td>fharris@google.com</td>\n",
       "            <td>4</td>\n",
       "        </tr>\n",
       "        <tr>\n",
       "            <td>17</td>\n",
       "            <td>Jack</td>\n",
       "            <td>Smith</td>\n",
       "            <td>Microsoft Corporation</td>\n",
       "            <td>1 Microsoft Way</td>\n",
       "            <td>Redmond</td>\n",
       "            <td>WA</td>\n",
       "            <td>USA</td>\n",
       "            <td>98052-8300</td>\n",
       "            <td>+1 (425) 882-8080</td>\n",
       "            <td>+1 (425) 882-8081</td>\n",
       "            <td>jacksmith@microsoft.com</td>\n",
       "            <td>5</td>\n",
       "        </tr>\n",
       "    </tbody>\n",
       "</table>"
      ],
      "text/plain": [
       "+------------+-----------+-------------+-----------------------+---------------------------+---------------+-------+----------------+------------+-------------------+-------------------+--------------------------+--------------+\n",
       "| CustomerId | FirstName |   LastName  |        Company        |          Address          |      City     | State |    Country     | PostalCode |       Phone       |        Fax        |          Email           | SupportRepId |\n",
       "+------------+-----------+-------------+-----------------------+---------------------------+---------------+-------+----------------+------------+-------------------+-------------------+--------------------------+--------------+\n",
       "|     3      |  François |   Tremblay  |          None         |     1498 rue Bélanger     |    Montréal   |   QC  |     Canada     |  H2G 1A7   | +1 (514) 721-4711 |        None       |   ftremblay@gmail.com    |      3       |\n",
       "|     5      | František | Wichterlová |    JetBrains s.r.o.   |       Klanova 9/506       |     Prague    |  None | Czech Republic |   14700    |  +420 2 4172 5555 |  +420 2 4172 5555 | frantisekw@jetbrains.com |      4       |\n",
       "|     6      |   Helena  |     Holý    |          None         |       Rilská 3174/6       |     Prague    |  None | Czech Republic |   14300    |  +420 2 4177 0449 |        None       |     hholy@gmail.com      |      5       |\n",
       "|     16     |   Frank   |    Harris   |      Google Inc.      | 1600 Amphitheatre Parkway | Mountain View |   CA  |      USA       | 94043-1351 | +1 (650) 253-0000 | +1 (650) 253-0000 |    fharris@google.com    |      4       |\n",
       "|     17     |    Jack   |    Smith    | Microsoft Corporation |      1 Microsoft Way      |    Redmond    |   WA  |      USA       | 98052-8300 | +1 (425) 882-8080 | +1 (425) 882-8081 | jacksmith@microsoft.com  |      5       |\n",
       "+------------+-----------+-------------+-----------------------+---------------------------+---------------+-------+----------------+------------+-------------------+-------------------+--------------------------+--------------+"
      ]
     },
     "execution_count": 10,
     "metadata": {},
     "output_type": "execute_result"
    }
   ],
   "source": [
    "%%sql\n",
    "\n",
    "SELECT *\n",
    "FROM customers AS c\n",
    "WHERE c.Email LIKE \"%.___\"\n",
    "LIMIT 5;"
   ]
  },
  {
   "cell_type": "markdown",
   "id": "0e85967d",
   "metadata": {},
   "source": [
    "One of the most useful string operators in SQL is the `LIKE` operator. This allows us to search for a pattern of text within a table column.\n",
    "\n",
    "`LIKE` is used in the `WHERE` clause in conjunction with wildcards. Examples include:\n",
    "\n",
    "- `%`: represents zero, one, or multiple characters\n",
    "- `_`: represents a single character"
   ]
  },
  {
   "cell_type": "markdown",
   "id": "c1341a11",
   "metadata": {},
   "source": [
    "### Exercise 5"
   ]
  },
  {
   "cell_type": "code",
   "execution_count": 12,
   "id": "9a0cf068",
   "metadata": {},
   "outputs": [
    {
     "data": {
      "text/html": [
       "<span style=\"None\">Running query in &#x27;sqlite:///chinook.db&#x27;</span>"
      ],
      "text/plain": [
       "Running query in 'sqlite:///chinook.db'"
      ]
     },
     "metadata": {},
     "output_type": "display_data"
    },
    {
     "data": {
      "text/html": [
       "<table>\n",
       "    <thead>\n",
       "        <tr>\n",
       "            <th>CustomerId</th>\n",
       "            <th>FirstName</th>\n",
       "            <th>LastName</th>\n",
       "            <th>Company</th>\n",
       "            <th>Address</th>\n",
       "            <th>City</th>\n",
       "            <th>State</th>\n",
       "            <th>Country</th>\n",
       "            <th>PostalCode</th>\n",
       "            <th>Phone</th>\n",
       "            <th>Fax</th>\n",
       "            <th>Email</th>\n",
       "            <th>SupportRepId</th>\n",
       "        </tr>\n",
       "    </thead>\n",
       "    <tbody>\n",
       "        <tr>\n",
       "            <td>52</td>\n",
       "            <td>Emma</td>\n",
       "            <td>Jones</td>\n",
       "            <td>None</td>\n",
       "            <td>202 Hoxton Street</td>\n",
       "            <td>London</td>\n",
       "            <td>None</td>\n",
       "            <td>United Kingdom</td>\n",
       "            <td>N1 5LH</td>\n",
       "            <td>+44 020 7707 0707</td>\n",
       "            <td>None</td>\n",
       "            <td>emma_jones@hotmail.com</td>\n",
       "            <td>3</td>\n",
       "        </tr>\n",
       "        <tr>\n",
       "            <td>53</td>\n",
       "            <td>Phil</td>\n",
       "            <td>Hughes</td>\n",
       "            <td>None</td>\n",
       "            <td>113 Lupus St</td>\n",
       "            <td>London</td>\n",
       "            <td>None</td>\n",
       "            <td>United Kingdom</td>\n",
       "            <td>SW1V 3EN</td>\n",
       "            <td>+44 020 7976 5722</td>\n",
       "            <td>None</td>\n",
       "            <td>phil.hughes@gmail.com</td>\n",
       "            <td>3</td>\n",
       "        </tr>\n",
       "        <tr>\n",
       "            <td>54</td>\n",
       "            <td>Steve</td>\n",
       "            <td>Murray</td>\n",
       "            <td>None</td>\n",
       "            <td>110 Raeburn Pl</td>\n",
       "            <td>Edinburgh </td>\n",
       "            <td>None</td>\n",
       "            <td>United Kingdom</td>\n",
       "            <td>EH4 1HH</td>\n",
       "            <td>+44 0131 315 3300</td>\n",
       "            <td>None</td>\n",
       "            <td>steve.murray@yahoo.uk</td>\n",
       "            <td>5</td>\n",
       "        </tr>\n",
       "    </tbody>\n",
       "</table>"
      ],
      "text/plain": [
       "+------------+-----------+----------+---------+-------------------+------------+-------+----------------+------------+-------------------+------+------------------------+--------------+\n",
       "| CustomerId | FirstName | LastName | Company |      Address      |    City    | State |    Country     | PostalCode |       Phone       | Fax  |         Email          | SupportRepId |\n",
       "+------------+-----------+----------+---------+-------------------+------------+-------+----------------+------------+-------------------+------+------------------------+--------------+\n",
       "|     52     |    Emma   |  Jones   |   None  | 202 Hoxton Street |   London   |  None | United Kingdom |   N1 5LH   | +44 020 7707 0707 | None | emma_jones@hotmail.com |      3       |\n",
       "|     53     |    Phil   |  Hughes  |   None  |    113 Lupus St   |   London   |  None | United Kingdom |  SW1V 3EN  | +44 020 7976 5722 | None | phil.hughes@gmail.com  |      3       |\n",
       "|     54     |   Steve   |  Murray  |   None  |   110 Raeburn Pl  | Edinburgh  |  None | United Kingdom |  EH4 1HH   | +44 0131 315 3300 | None | steve.murray@yahoo.uk  |      5       |\n",
       "+------------+-----------+----------+---------+-------------------+------------+-------+----------------+------------+-------------------+------+------------------------+--------------+"
      ]
     },
     "execution_count": 12,
     "metadata": {},
     "output_type": "execute_result"
    }
   ],
   "source": [
    "%%sql\n",
    "\n",
    "SELECT \n",
    "    *\n",
    "FROM \n",
    "    customers\n",
    "WHERE \n",
    "    LOWER(country) = \"united kingdom\";"
   ]
  },
  {
   "cell_type": "markdown",
   "id": "6995dd21",
   "metadata": {},
   "source": [
    "When filtering on string columns, it's best to use the `UPPER` or `LOWER` functions so as to not exclude any entries that might differ based on their case."
   ]
  },
  {
   "cell_type": "markdown",
   "id": "3f50031f",
   "metadata": {},
   "source": [
    "### Exercise 6"
   ]
  },
  {
   "cell_type": "code",
   "execution_count": 14,
   "id": "93213a45",
   "metadata": {},
   "outputs": [
    {
     "data": {
      "text/html": [
       "<span style=\"None\">Running query in &#x27;sqlite:///chinook.db&#x27;</span>"
      ],
      "text/plain": [
       "Running query in 'sqlite:///chinook.db'"
      ]
     },
     "metadata": {},
     "output_type": "display_data"
    },
    {
     "data": {
      "text/html": [
       "<table>\n",
       "    <thead>\n",
       "        <tr>\n",
       "            <th>Full Name</th>\n",
       "        </tr>\n",
       "    </thead>\n",
       "    <tbody>\n",
       "        <tr>\n",
       "            <td>Andrew Adams</td>\n",
       "        </tr>\n",
       "        <tr>\n",
       "            <td>Nancy Edwards</td>\n",
       "        </tr>\n",
       "        <tr>\n",
       "            <td>Jane Peacock</td>\n",
       "        </tr>\n",
       "        <tr>\n",
       "            <td>Margaret Park</td>\n",
       "        </tr>\n",
       "        <tr>\n",
       "            <td>Steve Johnson</td>\n",
       "        </tr>\n",
       "        <tr>\n",
       "            <td>Michael Mitchell</td>\n",
       "        </tr>\n",
       "        <tr>\n",
       "            <td>Robert King</td>\n",
       "        </tr>\n",
       "        <tr>\n",
       "            <td>Laura Callahan</td>\n",
       "        </tr>\n",
       "    </tbody>\n",
       "</table>"
      ],
      "text/plain": [
       "+------------------+\n",
       "|    Full Name     |\n",
       "+------------------+\n",
       "|   Andrew Adams   |\n",
       "|  Nancy Edwards   |\n",
       "|   Jane Peacock   |\n",
       "|  Margaret Park   |\n",
       "|  Steve Johnson   |\n",
       "| Michael Mitchell |\n",
       "|   Robert King    |\n",
       "|  Laura Callahan  |\n",
       "+------------------+"
      ]
     },
     "execution_count": 14,
     "metadata": {},
     "output_type": "execute_result"
    }
   ],
   "source": [
    "%%sql\n",
    "\n",
    "SELECT FirstName || \" \" || LastName AS \"Full Name\"\n",
    "FROM employees;"
   ]
  },
  {
   "cell_type": "markdown",
   "id": "6d8d9bdd",
   "metadata": {},
   "source": [
    "<div align=\"center\" style=\" font-size: 80%; text-align: center; margin: 0 auto\">\n",
    "<img src=\"https://raw.githubusercontent.com/Explore-AI/Pictures/master/ExploreAI_logos/EAI_Blue_Dark.png\"  style=\"width:200px\";/>\n",
    "</div>"
   ]
  }
 ],
 "metadata": {
  "kernelspec": {
   "display_name": "Python 3 (ipykernel)",
   "language": "python",
   "name": "python3"
  },
  "language_info": {
   "codemirror_mode": {
    "name": "ipython",
    "version": 3
   },
   "file_extension": ".py",
   "mimetype": "text/x-python",
   "name": "python",
   "nbconvert_exporter": "python",
   "pygments_lexer": "ipython3",
   "version": "3.11.5"
  }
 },
 "nbformat": 4,
 "nbformat_minor": 5
}
